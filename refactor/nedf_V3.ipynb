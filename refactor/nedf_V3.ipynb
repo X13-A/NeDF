{
 "cells": [
  {
   "cell_type": "markdown",
   "metadata": {
    "id": "XZh3aklt3ZET"
   },
   "source": [
    "# NeDF"
   ]
  },
  {
   "cell_type": "markdown",
   "metadata": {},
   "source": [
    "## Setting up"
   ]
  },
  {
   "cell_type": "code",
   "execution_count": 1,
   "metadata": {
    "id": "ptTYjWao3VsM"
   },
   "outputs": [
    {
     "name": "stdout",
     "output_type": "stream",
     "text": [
      "2.5.1+cu124\n"
     ]
    }
   ],
   "source": [
    "# Import all the good stuff\n",
    "import os\n",
    "os.environ[\"OPENCV_IO_ENABLE_OPENEXR\"]=\"1\"\n",
    "import cv2\n",
    "import numpy as np\n",
    "import torch\n",
    "import re\n",
    "import matplotlib.pyplot as plt\n",
    "from torch.utils.data import DataLoader\n",
    "from settings import *\n",
    "from utils import *\n",
    "from dataset import *\n",
    "from model import *\n",
    "from dataset import *\n",
    "from estimate_distance import *\n",
    "print(torch.__version__)"
   ]
  },
  {
   "cell_type": "markdown",
   "metadata": {
    "id": "Ierxw2dsL3pU"
   },
   "source": [
    "### GPU vs CPU ?"
   ]
  },
  {
   "cell_type": "code",
   "execution_count": 2,
   "metadata": {},
   "outputs": [
    {
     "name": "stdout",
     "output_type": "stream",
     "text": [
      "Using device: cuda\n"
     ]
    }
   ],
   "source": [
    "device = torch.device(\"cuda\" if torch.cuda.is_available() else \"cpu\")\n",
    "print(f\"Using device: {device}\")"
   ]
  },
  {
   "cell_type": "code",
   "execution_count": 3,
   "metadata": {},
   "outputs": [
    {
     "name": "stdout",
     "output_type": "stream",
     "text": [
      "Loading depth maps and generating rays...\n",
      "success\n",
      "success\n",
      "success\n",
      "Successfully generated 3 entries!\n"
     ]
    }
   ],
   "source": [
    "dataset = load_dataset()"
   ]
  },
  {
   "cell_type": "code",
   "execution_count": 4,
   "metadata": {},
   "outputs": [
    {
     "ename": "AttributeError",
     "evalue": "'numpy.ndarray' object has no attribute 'numpy'",
     "output_type": "error",
     "traceback": [
      "\u001b[1;31m---------------------------------------------------------------------------\u001b[0m",
      "\u001b[1;31mAttributeError\u001b[0m                            Traceback (most recent call last)",
      "Cell \u001b[1;32mIn[4], line 22\u001b[0m\n\u001b[0;32m     19\u001b[0m axes[\u001b[38;5;241m0\u001b[39m]\u001b[38;5;241m.\u001b[39maxis(\u001b[38;5;124m'\u001b[39m\u001b[38;5;124moff\u001b[39m\u001b[38;5;124m'\u001b[39m)\n\u001b[0;32m     21\u001b[0m \u001b[38;5;66;03m# Ray directions as RGB\u001b[39;00m\n\u001b[1;32m---> 22\u001b[0m axes[\u001b[38;5;241m1\u001b[39m]\u001b[38;5;241m.\u001b[39mimshow(\u001b[43mray_rgb\u001b[49m\u001b[38;5;241;43m.\u001b[39;49m\u001b[43mnumpy\u001b[49m())\n\u001b[0;32m     23\u001b[0m axes[\u001b[38;5;241m1\u001b[39m]\u001b[38;5;241m.\u001b[39mset_title(\u001b[38;5;124mf\u001b[39m\u001b[38;5;124m\"\u001b[39m\u001b[38;5;124mRay Directions (Index \u001b[39m\u001b[38;5;132;01m{\u001b[39;00midx\u001b[38;5;132;01m}\u001b[39;00m\u001b[38;5;124m)\u001b[39m\u001b[38;5;124m\"\u001b[39m)\n\u001b[0;32m     24\u001b[0m axes[\u001b[38;5;241m1\u001b[39m]\u001b[38;5;241m.\u001b[39maxis(\u001b[38;5;124m'\u001b[39m\u001b[38;5;124moff\u001b[39m\u001b[38;5;124m'\u001b[39m)\n",
      "\u001b[1;31mAttributeError\u001b[0m: 'numpy.ndarray' object has no attribute 'numpy'"
     ]
    },
    {
     "data": {
      "image/png": "[encoded data removed]",
      "text/plain": [
       "<Figure size 1200x600 with 2 Axes>"
      ]
     },
     "metadata": {},
     "output_type": "display_data"
    }
   ],
   "source": [
    "display_every = 10\n",
    "for idx, data in dataset.items():\n",
    "    if idx % display_every == 0:\n",
    "        depth_image = data[DEPTH_MAP_ENTRY]\n",
    "        ray_origins = data[RAYS_ENTRY][RAY_ORIGINS_ENTRY]\n",
    "        ray_directions = data[RAYS_ENTRY][RAY_DIRECTIONS_ENTRY]\n",
    "        camera_pos = data[CAMERA_POS_ENTRY]\n",
    "        camera_angle = data[CAMERA_ANGLE_ENTRY]\n",
    "\n",
    "        # Create a 2x1 plot\n",
    "        fig, axes = plt.subplots(1, 2, figsize=(12, 6))\n",
    "\n",
    "        # Depth map\n",
    "        axes[0].imshow(depth_image, cmap='gray')\n",
    "        axes[0].set_title(f\"Depth Map (Index {idx})\")\n",
    "        axes[0].axis('off')\n",
    "\n",
    "        # Ray directions as RGB\n",
    "        axes[1].imshow(ray_directions)\n",
    "        axes[1].set_title(f\"Ray Directions (Index {idx})\")\n",
    "        axes[1].axis('off')\n",
    "\n",
    "        # plt.suptitle(f\"Camera Pos: {camera_pos}, Angle: {camera_angle}\")\n",
    "        # Format the camera angle to two decimal places\n",
    "        formatted_angle = ', '.join([f\"{angle:.2f}\" for angle in camera_angle])\n",
    "        formatted_pos = ', '.join([f\"{pos:.2f}\" for pos in camera_pos])\n",
    "\n",
    "        # Update the plot title\n",
    "        plt.suptitle(f\"Pos: {formatted_pos}, Angle: {formatted_angle}\")\n",
    "        plt.show()"
   ]
  },
  {
   "cell_type": "code",
   "execution_count": null,
   "metadata": {},
   "outputs": [],
   "source": [
    "# Apply post processing\n",
    "dataset = post_process_dataset(dataset)"
   ]
  },
  {
   "cell_type": "markdown",
   "metadata": {
    "id": "XFUaajNpNNgJ"
   },
   "source": [
    "## Train !"
   ]
  },
  {
   "cell_type": "markdown",
   "metadata": {},
   "source": [
    "### Sphere tracing\n",
    "This method renders a depth map using the model's predictions to dynamically adjust step size during ray marching."
   ]
  },
  {
   "cell_type": "code",
   "execution_count": 6,
   "metadata": {},
   "outputs": [],
   "source": [
    "def render_depth_sphere_tracing(\n",
    "    distance_field_model: torch.nn.Module,\n",
    "    ray_origins: torch.Tensor,\n",
    "    ray_directions: torch.Tensor,\n",
    "    depth_map: torch.Tensor, # TODO: remove param, no longer useful\n",
    "    near_thresh: float,\n",
    "    max_iterations: int = 50,\n",
    ") -> torch.Tensor:\n",
    "\n",
    "    # Create a tensor to track active rays\n",
    "    active_mask = torch.ones_like(depth_map, dtype=torch.bool) # TODO: use ray_origins shape instead of depth_map\n",
    "\n",
    "    # Predicted depth map\n",
    "    dstTravelled = torch.full_like(depth_map, 0, requires_grad=True) # TODO: use ray_origins shape instead of depth_map\n",
    "    steps = torch.zeros_like(active_mask, dtype=torch.float32, requires_grad=True)\n",
    "    \n",
    "    all_query_points = []\n",
    "    all_predicted_distances = []\n",
    "\n",
    "    for i in range(max_iterations):\n",
    "        # Stop if no active rays remain\n",
    "        if not torch.any(active_mask):\n",
    "            break\n",
    "        \n",
    "        # Compute the query points\n",
    "        query_points = ray_origins + ray_directions * dstTravelled[..., None]\n",
    "        query_points.requires_grad_()\n",
    "        \n",
    "        # Predict distances using the model\n",
    "        predicted_distances = distance_field_model(query_points).squeeze(-1)\n",
    "        \n",
    "        # Increment the steps for active rays\n",
    "        steps = torch.where(active_mask, steps + 1, steps)\n",
    "\n",
    "        # Mask for rays that are within the surface threshold\n",
    "        hit_mask = (predicted_distances < near_thresh) & active_mask\n",
    "        \n",
    "        # Store active query points and predictions\n",
    "        all_query_points.append(query_points[~hit_mask])\n",
    "        all_predicted_distances.append(predicted_distances[~hit_mask])\n",
    "\n",
    "        # Update active mask to deactivate rays that hit\n",
    "        active_mask = active_mask & ~hit_mask\n",
    "        \n",
    "        # Update the depth map only for rays that have hit\n",
    "        dstTravelled = torch.where(active_mask, dstTravelled + predicted_distances, dstTravelled)\n",
    "\n",
    "    # Concatenate query points and distances\n",
    "    all_query_points = torch.cat(all_query_points, dim=0)\n",
    "    all_predicted_distances = torch.cat(all_predicted_distances, dim=0)\n",
    "\n",
    "    return dstTravelled, steps, all_query_points, all_predicted_distances"
   ]
  },
  {
   "cell_type": "markdown",
   "metadata": {},
   "source": [
    "### Eikonal loss function"
   ]
  },
  {
   "cell_type": "code",
   "execution_count": 7,
   "metadata": {},
   "outputs": [],
   "source": [
    "def compute_gradients(model, query_points, eps=1e-4, sample_ratio=0.1):\n",
    "    \"\"\"\n",
    "    Computes numerical gradients of SDF using finite differences.\n",
    "\n",
    "    Args:\n",
    "    - model: The implicit function.\n",
    "    - query_points: Tensor of shape [N, 3], query points.\n",
    "    - eps: Small step for finite differences.\n",
    "    - sample_ratio: Fraction of points to sample for gradient computation.\n",
    "\n",
    "    Returns:\n",
    "    - gradients: Tensor of shape [sampled_N, 3], computed gradients.\n",
    "    \"\"\"\n",
    "    N = query_points.shape[0]\n",
    "    device = query_points.device\n",
    "\n",
    "    # Randomly sample query points\n",
    "    nb_samples = min(int(N * sample_ratio), 5000)\n",
    "    sampled_indices = torch.randperm(N, device=device)[:nb_samples]\n",
    "    sampled_points = query_points[sampled_indices]\n",
    "\n",
    "    # Allocate memory for gradients\n",
    "    gradients = torch.zeros_like(sampled_points, device=device)\n",
    "\n",
    "    for i in range(3):  # Compute gradient w.r.t x, y, z\n",
    "        offset = torch.zeros_like(sampled_points, device=device)\n",
    "        offset[:, i] = eps\n",
    "\n",
    "        forward_points = sampled_points + offset\n",
    "        backward_points = sampled_points - offset\n",
    "\n",
    "        forward_sdf = model(forward_points).squeeze(-1)\n",
    "        backward_sdf = model(backward_points).squeeze(-1)\n",
    "\n",
    "        # Central finite difference\n",
    "        gradients[:, i] = (forward_sdf - backward_sdf) / (2 * eps)\n",
    "\n",
    "    return gradients\n",
    "\n",
    "def compute_eikonal_loss(gradients):\n",
    "    \"\"\"\n",
    "    Computes the Eikonal loss using the computed gradients.\n",
    "\n",
    "    Args:\n",
    "    - gradients (torch.Tensor): Tensor of shape [N, 3] containing the gradients of SDF predictions.\n",
    "\n",
    "    Returns:\n",
    "    - loss (torch.Tensor): Computed Eikonal loss.\n",
    "    \"\"\"\n",
    "    # ||grad|| should be close to 1, compute the deviation from 1\n",
    "    loss = torch.mean(torch.abs(torch.norm(gradients, dim=-1) - 1))\n",
    "    return loss"
   ]
  },
  {
   "cell_type": "markdown",
   "metadata": {},
   "source": [
    "### Checkpoint saving and loading"
   ]
  },
  {
   "cell_type": "code",
   "execution_count": 8,
   "metadata": {},
   "outputs": [],
   "source": [
    "# Checkpoint saving function\n",
    "def save_checkpoint(model, optimizer, epoch, loss, checkpoint_path):\n",
    "    torch.save({\n",
    "        'epoch': epoch,\n",
    "        'model_state_dict': model.state_dict(),\n",
    "        'optimizer_state_dict': optimizer.state_dict(),\n",
    "        'loss': loss,\n",
    "    }, checkpoint_path)\n",
    "    # print(f\"Checkpoint saved at {checkpoint_path}\")\n",
    "\n",
    "# Checkpoint loading function\n",
    "def load_checkpoint(model, optimizer, checkpoint_path):\n",
    "    if os.path.isfile(checkpoint_path):\n",
    "        checkpoint = torch.load(checkpoint_path)\n",
    "        model.load_state_dict(checkpoint['model_state_dict'])\n",
    "        optimizer.load_state_dict(checkpoint['optimizer_state_dict'])\n",
    "        epoch = checkpoint['epoch']\n",
    "        loss = checkpoint['loss']\n",
    "        print(f\"Loaded checkpoint from {checkpoint_path}: Epoch {epoch}, Loss: {loss:.4f}\")\n",
    "        return epoch, loss\n",
    "    else:\n",
    "        print(f\"No checkpoint found at {checkpoint_path}\")\n",
    "        return 0, float('inf')"
   ]
  },
  {
   "cell_type": "markdown",
   "metadata": {},
   "source": [
    "### Training loop"
   ]
  },
  {
   "cell_type": "code",
   "execution_count": null,
   "metadata": {},
   "outputs": [],
   "source": [
    "import os\n",
    "import torch\n",
    "import random\n",
    "\n",
    "# Learning parameters\n",
    "L = 5\n",
    "lr = 1e-5\n",
    "\n",
    "# Model and optimizer\n",
    "model = NeDFModel(L=L).to(device)\n",
    "model.apply(initialize_weights)\n",
    "optimizer = torch.optim.Adam(model.parameters(), lr=lr)\n",
    "\n",
    "# Seed RNG\n",
    "seed = 9458\n",
    "torch.manual_seed(seed)\n",
    "np.random.seed(seed)\n",
    "\n",
    "# Load previous checkpoint if available\n",
    "checkpoint_dir = \"checkpoints\"\n",
    "os.makedirs(checkpoint_dir, exist_ok=True)\n",
    "start_epoch, best_loss = load_checkpoint(model, optimizer, os.path.join(checkpoint_dir, CHECKPOINT_NAME))"
   ]
  },
  {
   "cell_type": "code",
   "execution_count": null,
   "metadata": {},
   "outputs": [],
   "source": [
    "# Test model with random points\n",
    "with torch.no_grad():\n",
    "    scale = 100\n",
    "    test_points = torch.rand(1000, 3, device=device) * scale - torch.tensor([scale/2, scale/2, scale/2], device=device)\n",
    "    # predicted_distances = model(test_points).squeeze(-1).detach().cpu().numpy()\n",
    "    estimate_distances(test_points, dataset, device)"
   ]
  },
  {
   "cell_type": "code",
   "execution_count": null,
   "metadata": {
    "colab": {
     "base_uri": "https://localhost:8080/",
     "height": 1000
    },
    "id": "JovhcSy1NIhr",
    "outputId": "50f322e3-552b-4802-e03e-1e5237a64ecf"
   },
   "outputs": [],
   "source": [
    "# Training parameters\n",
    "display_every = 1\n",
    "plot_every = 1\n",
    "save_every = 50  # Save every n iterations\n",
    "batch_size = 1024*8  # Number of rays per batch\n",
    "\n",
    "exceed_depth_threshold = 1.2  # Factor threshold for exceeding sampled depth\n",
    "max_ray_marching_steps = 10\n",
    "\n",
    "# Loss weights\n",
    "exceed_depth_threshold = 1.1\n",
    "exceed_depth_penalty_weight = 1\n",
    "eikonal_penalty_weight = 1\n",
    "depth_penalty_weight = 1\n",
    "steps_penalty_weight = 5\n",
    "\n",
    "num_iters = start_epoch + 1 # Change this here for longer sessions\n",
    "near_thresh = 0.01\n",
    "\n",
    "# Training Loop\n",
    "for i in range(start_epoch, num_iters):\n",
    "    # Sample random dataset indices\n",
    "    indices = torch.randint(0, len(dataset), (batch_size,))\n",
    "    # Extract data for all sampled indices\n",
    "    data_batch = [list(dataset.values())[idx] for idx in indices.cpu().numpy()]\n",
    "\n",
    "    # Flatten ray and depth arrays for uniform sampling\n",
    "    target_depth = torch.cat([torch.tensor(data[FILTERED_DEPTH_MAP_ENTRY], dtype=torch.float32) for data in data_batch]).to(device)\n",
    "    ray_origins = torch.cat([torch.tensor(data[RAYS_ENTRY][RAY_ORIGINS_ENTRY], dtype=torch.float32) for data in data_batch]).to(device)\n",
    "    ray_directions = torch.cat([torch.tensor(data[RAYS_ENTRY][RAY_DIRECTIONS_ENTRY], dtype=torch.float32) for data in data_batch]).to(device)\n",
    "\n",
    "    # Convert to GLM coordinates\n",
    "    ray_origins = blender_to_opengl(ray_origins).to(device)\n",
    "    ray_directions = blender_to_opengl(ray_directions).to(device)\n",
    "\n",
    "    # Sample random pixel coordinates from the flattened array\n",
    "    rand_coords = torch.randint(0, target_depth.shape[0], (batch_size,))\n",
    "\n",
    "    # Gather samples\n",
    "    sampled_depth = target_depth[rand_coords]\n",
    "    sampled_ray_origins = ray_origins[rand_coords]\n",
    "    sampled_ray_directions = ray_directions[rand_coords]\n",
    "\n",
    "    # Ensure there are valid samples left after sampling\n",
    "    if sampled_ray_origins.shape[0] == 0:\n",
    "        print(\"No valid samples found, skipping this batch.\")\n",
    "        continue\n",
    "\n",
    "    # Perform sphere tracing\n",
    "    depth_predicted, steps, query_points, query_results = render_depth_sphere_tracing(\n",
    "        model, sampled_ray_origins, sampled_ray_directions, sampled_depth, near_thresh, max_ray_marching_steps\n",
    "    )\n",
    "\n",
    "    # Select a subset of query points for distance estimation\n",
    "    loss_samples = 5\n",
    "    query_points_for_loss = query_points[:loss_samples]\n",
    "    query_results_for_loss = query_results[:loss_samples]\n",
    "    estimated_distances = estimate_distances(query_points_for_loss, dataset, device)\n",
    "    print(f\"### Query points:\\n{query_points_for_loss}\")\n",
    "    print(f\"### Query results:\\n{query_results_for_loss}\")\n",
    "    print(f\"### Estimated distances:\\n{estimated_distances}\")\n",
    "\n",
    "    # Correctly reshape to the largest possible square\n",
    "    valid_size = int(torch.sqrt(torch.tensor(sampled_depth.shape[0], dtype=torch.float32)).floor().item())\n",
    "    reshaped_predicted = depth_predicted[:valid_size**2].view(valid_size, valid_size).detach().cpu().numpy()\n",
    "    reshaped_target = sampled_depth[:valid_size**2].view(valid_size, valid_size).detach().cpu().numpy()\n",
    "\n",
    "    # Display predicted vs target depth\n",
    "    if i % plot_every == 0:\n",
    "        fig, axes = plt.subplots(1, 2, figsize=(10, 5))\n",
    "        axes[0].imshow(reshaped_target, cmap='gray')\n",
    "        axes[0].set_title(\"Target Depth\")\n",
    "        axes[0].axis('off')\n",
    "\n",
    "        axes[1].imshow(reshaped_predicted, cmap='gray')\n",
    "        axes[1].set_title(\"Predicted Depth\")\n",
    "        axes[1].axis('off')\n",
    "        plt.show()\n",
    "\n",
    "    # Combine Losses\n",
    "    average_steps = steps.mean()\n",
    "    steps_loss = average_steps / max_ray_marching_steps \n",
    "\n",
    "    gradients = compute_gradients(model, query_points)\n",
    "    eikonal_loss = compute_eikonal_loss(gradients)\n",
    "\n",
    "    exceed_depth_diff = torch.clamp(depth_predicted - sampled_depth * exceed_depth_threshold, min=0)\n",
    "    exceed_depth_loss = exceed_depth_diff.mean()\n",
    "\n",
    "    depth_loss = torch.nn.functional.mse_loss(depth_predicted, sampled_depth)\n",
    "    total_loss = depth_loss * depth_penalty_weight\n",
    "    total_loss = total_loss + eikonal_loss * eikonal_penalty_weight\n",
    "    total_loss = total_loss + exceed_depth_loss * exceed_depth_penalty_weight\n",
    "    total_loss = total_loss + steps_loss * steps_penalty_weight\n",
    "\n",
    "    if (total_loss == float('inf') or total_loss == float('nan')):\n",
    "        print(\"Loss is infinite or NaN, skipping this batch.\")\n",
    "        continue\n",
    "\n",
    "    # Backpropagation\n",
    "    optimizer.zero_grad()\n",
    "    total_loss.backward()\n",
    "    optimizer.step()\n",
    "\n",
    "    # Display Progress\n",
    "    if i % display_every == 0:\n",
    "        print(f\"\\n### Step {i} ###\")\n",
    "        print(f\"Average distance: {query_results.mean().item():.2f}\")\n",
    "        print(f\"Average steps: {steps.mean().item():.2f}\")\n",
    "        print(f\"Total loss: {total_loss.item():.2f} (Depth: {depth_loss.item():.2f}, Eikonal: {eikonal_loss.item():.2f}, Exceed: {exceed_depth_loss.item():.2f})\")\n",
    "        print(f\"Best loss: {best_loss:.2f}\")\n",
    "\n",
    "    # Save checkpoint periodically or if loss improves\n",
    "    if i % save_every == 0 or total_loss.item() < best_loss:\n",
    "        if total_loss.item() < best_loss:\n",
    "            best_loss = total_loss.item()\n",
    "        save_checkpoint(model, optimizer, i, total_loss.item(), os.path.join(checkpoint_dir, CHECKPOINT_NAME))\n",
    "\n",
    "print(\"Training complete!\")"
   ]
  },
  {
   "cell_type": "markdown",
   "metadata": {},
   "source": [
    "## Inference"
   ]
  },
  {
   "cell_type": "code",
   "execution_count": null,
   "metadata": {},
   "outputs": [],
   "source": [
    "# Model and optimizer\n",
    "L = 5\n",
    "model = NeDFModel(L=L).to(device)\n",
    "optimizer = torch.optim.Adam(model.parameters(), lr=lr)\n",
    "\n",
    "# Load checkpoint\n",
    "checkpoint_dir = \"checkpoints\"\n",
    "os.makedirs(checkpoint_dir, exist_ok=True)\n",
    "start_epoch, best_loss = load_checkpoint(model, optimizer, os.path.join(checkpoint_dir, CHECKPOINT_NAME))"
   ]
  },
  {
   "cell_type": "markdown",
   "metadata": {},
   "source": [
    "### Testing on train dataset"
   ]
  },
  {
   "cell_type": "code",
   "execution_count": null,
   "metadata": {},
   "outputs": [],
   "source": [
    "for i in range(DATASET_SIZE//4):\n",
    "    # Select one dataset entry\n",
    "    data_entry = dataset[i]\n",
    "\n",
    "    # Extract old depth and ray data\n",
    "    old_target_depth = torch.tensor(data_entry[\"OLD\" + DEPTH_MAP_ENTRY], dtype=torch.float32, device=device)\n",
    "    old_ray_origins = torch.tensor(data_entry[\"OLD\" + RAYS_ENTRY][RAY_ORIGINS_ENTRY], dtype=torch.float32, device=device)\n",
    "    old_ray_directions = torch.tensor(data_entry[\"OLD\" + RAYS_ENTRY][RAY_DIRECTIONS_ENTRY], dtype=torch.float32, device=device)\n",
    "\n",
    "    # Perform inference on full data\n",
    "    width, height = old_ray_origins.shape[1], old_ray_origins.shape[0]\n",
    "    predicted_depth, _, _, _ = render_depth_sphere_tracing(\n",
    "        model, old_ray_origins, old_ray_directions, old_target_depth, near_thresh\n",
    "    )\n",
    "\n",
    "    # Initialize full depth maps with placeholder\n",
    "    width, height = old_ray_origins.shape[1], old_ray_origins.shape[0]\n",
    "    full_predicted_depth = predicted_depth.view(-1).clone()\n",
    "    full_target_depth = old_target_depth.view(-1).clone()\n",
    "\n",
    "    # Reshape to 2D\n",
    "    full_predicted_depth = full_predicted_depth.view(height, width)\n",
    "    full_target_depth = full_target_depth.view(height, width)\n",
    "\n",
    "    # Display predicted vs target depth\n",
    "    fig, axes = plt.subplots(1, 2, figsize=(10, 5))\n",
    "    axes[0].imshow(full_target_depth.detach().cpu().numpy(), cmap='gray')\n",
    "    axes[0].set_title(\"Target Depth\")\n",
    "    axes[0].axis('off')\n",
    "\n",
    "    axes[1].imshow(full_predicted_depth.detach().cpu().numpy(), cmap='gray')\n",
    "    axes[1].set_title(\"Predicted Depth\")\n",
    "    axes[1].axis('off')\n",
    "    plt.show()\n"
   ]
  },
  {
   "cell_type": "markdown",
   "metadata": {},
   "source": [
    "### Tesing on new camera angles"
   ]
  },
  {
   "cell_type": "markdown",
   "metadata": {},
   "source": [
    "Ideally we would separate the dataset in two test / train sets instead of using new orientations. That way we could compute the loss numerically on top of observing the visual difference. "
   ]
  },
  {
   "cell_type": "code",
   "execution_count": null,
   "metadata": {},
   "outputs": [],
   "source": [
    "for i in range(DATASET_SIZE//4):\n",
    "    # Interpolate between two camera positions\n",
    "    data_entry1 = dataset[i]\n",
    "    data_entry2 = dataset[i + 1]\n",
    "\n",
    "    cam_pos1 = torch.tensor(data_entry1[CAMERA_POS_ENTRY], dtype=torch.float32, device=device)\n",
    "    cam_pos2 = torch.tensor(data_entry2[CAMERA_POS_ENTRY], dtype=torch.float32, device=device)\n",
    "\n",
    "    # Interpolation factor\n",
    "    alpha = 0.5\n",
    "    interpolated_cam_pos = cam_pos1 * (1 - alpha) + cam_pos2 * alpha\n",
    "\n",
    "    # Interpolate camera angles\n",
    "    cam_dir1 = torch.tensor(data_entry1[CAMERA_ANGLE_ENTRY], dtype=torch.float32, device=device)\n",
    "    cam_dir2 = torch.tensor(data_entry2[CAMERA_ANGLE_ENTRY], dtype=torch.float32, device=device)\n",
    "    interpolated_cam_dir = cam_dir1 * (1 - alpha) + cam_dir2 * alpha\n",
    "\n",
    "    # Generate new rays using the ray generation function\n",
    "    width, height = 100, 100\n",
    "    focal_length = fov_to_focal_length(FOV, width)\n",
    "    tform_cam2world = pos_angle_to_tform_cam2world(interpolated_cam_pos, interpolated_cam_dir)\n",
    "    ray_origins, ray_directions = get_ray_bundle(height, width, focal_length, tform_cam2world)\n",
    "    ray_origins = ray_origins.to(device)\n",
    "    ray_directions = ray_directions.to(device)\n",
    "\n",
    "    # Perform inference\n",
    "    infinite_depth_map = torch.full((height, width), 10000.0, device=device) # Needed in sphere tracing to let rays go as far as they want\n",
    "    predicted_depth, _, _, _ = render_depth_sphere_tracing(\n",
    "        model, ray_origins, ray_directions, infinite_depth_map, near_thresh\n",
    "    )\n",
    "\n",
    "    # Reshape and visualize\n",
    "    predicted_depth_2d = predicted_depth.view(height, width)\n",
    "\n",
    "    # Extract target depth for comparison from first entry\n",
    "    target_depth_2d = torch.tensor(data_entry1[\"OLD\" + DEPTH_MAP_ENTRY], dtype=torch.float32, device=device)\n",
    "\n",
    "    # Display predicted vs target depth\n",
    "    formatted_pos1 = ', '.join([f\"{pos:.2f}\" for pos in cam_pos1])\n",
    "    formatted_pos2 = ', '.join([f\"{pos:.2f}\" for pos in cam_pos2])\n",
    "    formatted_interpolated_cam_pos = ', '.join([f\"{pos:.2f}\" for pos in interpolated_cam_pos])\n",
    "    formatted_dir1 = ', '.join([f\"{dir:.2f}\" for dir in cam_dir1])\n",
    "    formatted_dir2 = ', '.join([f\"{dir:.2f}\" for dir in cam_dir2])\n",
    "    formatted_interpolated_cam_dir = ', '.join([f\"{dir:.2f}\" for dir in interpolated_cam_dir])\n",
    "\n",
    "    print(f\"Interpolating between indices {i} and {i + 1}...\")\n",
    "    print(f\"pos1: {formatted_pos1}, pos2: {formatted_pos2}, interpolated: {formatted_interpolated_cam_pos}\")\n",
    "    print(f\"dir1: {formatted_dir1}, dir2: {formatted_dir2}, interpolated: {formatted_interpolated_cam_dir}\")\n",
    "    \n",
    "    fig, axes = plt.subplots(1, 2, figsize=(15, 5))\n",
    "    axes[0].imshow(target_depth_2d.detach().cpu().numpy(), cmap='gray')\n",
    "    axes[0].set_title(\"Target Depth\")\n",
    "    axes[0].axis('off')\n",
    "\n",
    "    axes[1].imshow(predicted_depth_2d.detach().cpu().numpy(), cmap='gray')\n",
    "    axes[1].set_title(\"Predicted Depth\")\n",
    "    axes[1].axis('off')\n",
    "    plt.show()\n",
    "\n"
   ]
  }
 ],
 "metadata": {
  "accelerator": "GPU",
  "colab": {
   "provenance": []
  },
  "kernelspec": {
   "display_name": "Python 3",
   "name": "python3"
  },
  "language_info": {
   "codemirror_mode": {
    "name": "ipython",
    "version": 3
   },
   "file_extension": ".py",
   "mimetype": "text/x-python",
   "name": "python",
   "nbconvert_exporter": "python",
   "pygments_lexer": "ipython3",
   "version": "3.12.0"
  }
 },
 "nbformat": 4,
 "nbformat_minor": 0
}
