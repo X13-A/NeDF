{
 "cells": [
  {
   "cell_type": "markdown",
   "metadata": {
    "id": "XZh3aklt3ZET"
   },
   "source": [
    "# NeDF"
   ]
  },
  {
   "cell_type": "markdown",
   "metadata": {},
   "source": [
    "## Setting up"
   ]
  },
  {
   "cell_type": "code",
   "execution_count": 480,
   "metadata": {
    "id": "ptTYjWao3VsM"
   },
   "outputs": [],
   "source": [
    "# Import all the good stuff\n",
    "import os\n",
    "os.environ[\"OPENCV_IO_ENABLE_OPENEXR\"]=\"1\"\n",
    "import cv2\n",
    "import numpy as np\n",
    "import torch\n",
    "import re\n",
    "import matplotlib.pyplot as plt\n",
    "from torch.utils.data import DataLoader"
   ]
  },
  {
   "cell_type": "markdown",
   "metadata": {
    "id": "Ierxw2dsL3pU"
   },
   "source": [
    "### GPU vs CPU ?"
   ]
  },
  {
   "cell_type": "markdown",
   "metadata": {},
   "source": [
    "### Utilitary functions"
   ]
  },
  {
   "cell_type": "code",
   "execution_count": 481,
   "metadata": {},
   "outputs": [],
   "source": [
    "def meshgrid_xy(tensor1: torch.Tensor, tensor2: torch.Tensor) -> (torch.Tensor, torch.Tensor):\n",
    "    \"\"\"Mimick np.meshgrid(..., indexing=\"xy\") in pytorch. torch.meshgrid only allows \"ij\" indexing.\n",
    "    (If you're unsure what this means, safely skip trying to understand this, and run a tiny example!)\n",
    "\n",
    "    Args:\n",
    "      tensor1 (torch.Tensor): Tensor whose elements define the first dimension of the returned meshgrid.\n",
    "      tensor2 (torch.Tensor): Tensor whose elements define the second dimension of the returned meshgrid.\n",
    "    \"\"\"\n",
    "    # TESTED\n",
    "    ii, jj = torch.meshgrid(tensor1, tensor2)\n",
    "    return ii.transpose(-1, -2), jj.transpose(-1, -2)"
   ]
  },
  {
   "cell_type": "code",
   "execution_count": 482,
   "metadata": {
    "id": "EHNwlsOT7NTp"
   },
   "outputs": [],
   "source": [
    "def fov_to_focal_length(fov: float, width: int) -> float:\n",
    "    \"\"\"\n",
    "    Convert field of view (FOV) to focal length.\n",
    "\n",
    "    Args:\n",
    "        fov (float): Field of view in degrees (horizontal).\n",
    "        width (int): Image width in pixels.\n",
    "\n",
    "    Returns:\n",
    "        float: Focal length in pixels.\n",
    "    \"\"\"\n",
    "    fov_tensor = torch.tensor(fov, dtype=torch.float32)\n",
    "    focal_length = width / (2 * torch.tan(torch.deg2rad(fov_tensor / 2)))\n",
    "    return focal_length\n",
    "\n",
    "def pos_angle_to_tform_cam2world(camera_pos: torch.Tensor, camera_angle: torch.Tensor) -> torch.Tensor:\n",
    "    \"\"\"\n",
    "    Create a transformation matrix from camera position and angles.\n",
    "\n",
    "    Args:\n",
    "        camera_pos (torch.Tensor): Camera position as (x, y, z).\n",
    "        camera_angle (torch.Tensor): Camera angles as (pitch, yaw, roll) in degrees.\n",
    "\n",
    "    Returns:\n",
    "        torch.Tensor: 4x4 transformation matrix from camera to world.\n",
    "    \"\"\"\n",
    "    pitch, yaw, roll = camera_angle\n",
    "\n",
    "    # Define rotation matrices\n",
    "    Rx = torch.tensor([\n",
    "        [1, 0, 0],\n",
    "        [0, torch.cos(pitch), -torch.sin(pitch)],\n",
    "        [0, torch.sin(pitch), torch.cos(pitch)]\n",
    "    ], dtype=torch.float32)\n",
    "\n",
    "    Ry = torch.tensor([\n",
    "        [torch.cos(yaw), 0, torch.sin(yaw)],\n",
    "        [0, 1, 0],\n",
    "        [-torch.sin(yaw), 0, torch.cos(yaw)]\n",
    "    ], dtype=torch.float32)\n",
    "\n",
    "    Rz = torch.tensor([\n",
    "        [torch.cos(roll), -torch.sin(roll), 0],\n",
    "        [torch.sin(roll), torch.cos(roll), 0],\n",
    "        [0, 0, 1]\n",
    "    ], dtype=torch.float32)\n",
    "\n",
    "    # Combine rotation matrices\n",
    "    rotation_matrix = Rz @ Ry @ Rx\n",
    "\n",
    "    # Create a 4x4 transformation matrix\n",
    "    tform_cam2world = torch.eye(4, dtype=torch.float32)\n",
    "    tform_cam2world[:3, :3] = rotation_matrix\n",
    "    tform_cam2world[:3, 3] = camera_pos\n",
    "\n",
    "    return tform_cam2world\n",
    "\n",
    "def get_ray_bundle(height: int, width: int, focal_length: float, tform_cam2world: torch.Tensor):\n",
    "  r\"\"\"Compute the bundle of rays passing through all pixels of an image (one ray per pixel).\n",
    "\n",
    "  Args:\n",
    "    height (int): Height of an image (number of pixels).\n",
    "    width (int): Width of an image (number of pixels).\n",
    "    focal_length (float or torch.Tensor): Focal length (number of pixels, i.e., calibrated intrinsics).\n",
    "    tform_cam2world (torch.Tensor): A 6-DoF rigid-body transform (shape: :math:`(4, 4)`) that\n",
    "      transforms a 3D point from the camera frame to the \"world\" frame for the current example.\n",
    "\n",
    "  Returns:\n",
    "    ray_origins (torch.Tensor): A tensor of shape :math:`(width, height, 3)` denoting the centers of\n",
    "      each ray. `ray_origins[i][j]` denotes the origin of the ray passing through pixel at\n",
    "      row index `j` and column index `i`.\n",
    "      (TODO: double check if explanation of row and col indices convention is right).\n",
    "    ray_directions (torch.Tensor): A tensor of shape :math:`(width, height, 3)` denoting the\n",
    "      direction of each ray (a unit vector). `ray_directions[i][j]` denotes the direction of the ray\n",
    "      passing through the pixel at row index `j` and column index `i`.\n",
    "      (TODO: double check if explanation of row and col indices convention is right).\n",
    "  \"\"\"\n",
    "  # TESTED\n",
    "  ii, jj = meshgrid_xy(\n",
    "      torch.arange(width).to(tform_cam2world),\n",
    "      torch.arange(height).to(tform_cam2world)\n",
    "  )\n",
    "  directions = torch.stack([(ii - width * .5) / focal_length,\n",
    "                            -(jj - height * .5) / focal_length,\n",
    "                            -torch.ones_like(ii)\n",
    "                           ], dim=-1)\n",
    "  ray_directions = torch.sum(directions[..., None, :] * tform_cam2world[:3, :3], dim=-1)\n",
    "  ray_origins = tform_cam2world[:3, -1].expand(ray_directions.shape)\n",
    "  return ray_origins, ray_directions"
   ]
  },
  {
   "cell_type": "markdown",
   "metadata": {
    "id": "tgoNR03iIs7R"
   },
   "source": [
    "### Network architecture"
   ]
  },
  {
   "cell_type": "code",
   "execution_count": 483,
   "metadata": {
    "id": "UjFN6FNzIqxl"
   },
   "outputs": [],
   "source": [
    "import torch\n",
    "import torch.nn as nn\n",
    "import torch.nn.functional as F\n",
    "\n",
    "class NeDFModel(nn.Module):\n",
    "    def __init__(self, input_dim=3, hidden_dim=256, skips=[4], L=10):\n",
    "        super(NeDFModel, self).__init__()\n",
    "        self.skips = skips\n",
    "        self.L = L\n",
    "        self.input_dim = input_dim\n",
    "        self.encoded_dim = input_dim + 2 * input_dim * L\n",
    "\n",
    "        # Input layer\n",
    "        self.layers = nn.ModuleList([nn.Linear(self.encoded_dim, hidden_dim)])\n",
    "\n",
    "        # Hidden layers with skip connections\n",
    "        for i in range(7):\n",
    "            if i + 1 in skips:\n",
    "                self.layers.append(nn.Linear(hidden_dim + self.input_dim, hidden_dim))\n",
    "            else:\n",
    "                self.layers.append(nn.Linear(hidden_dim, hidden_dim))\n",
    "\n",
    "        # Final layer for distance prediction\n",
    "        self.output_layer = nn.Linear(hidden_dim, 1)\n",
    "\n",
    "    def positional_encoding(self, x):\n",
    "        \"\"\"Applies NeRF's exact positional encoding to the input.\n",
    "        Args:\n",
    "            x (torch.Tensor): Input tensor of shape [B, 3].\n",
    "        Returns:\n",
    "            torch.Tensor: Encoded tensor of shape [B, 6L + 3].\n",
    "        \"\"\"\n",
    "        encoded = [x]\n",
    "        for i in range(self.L):\n",
    "            frequency = 2.0 ** i * torch.pi\n",
    "            encoded.append(torch.sin(frequency * x))\n",
    "            encoded.append(torch.cos(frequency * x))\n",
    "        return torch.cat(encoded, dim=-1)\n",
    "\n",
    "    def forward(self, x):\n",
    "        encoded_x = self.positional_encoding(x)\n",
    "        input_x = x  # Use raw input points for skip connections\n",
    "        for i, layer in enumerate(self.layers):\n",
    "            if i in self.skips:\n",
    "                encoded_x = torch.cat([input_x, encoded_x], dim=-1)\n",
    "            encoded_x = F.relu(layer(encoded_x))\n",
    "        return self.output_layer(encoded_x)\n",
    "    \n",
    "def initialize_weights(layer):\n",
    "    if isinstance(layer, nn.Linear):\n",
    "        nn.init.kaiming_uniform_(layer.weight, a=0, nonlinearity='relu')\n",
    "        nn.init.constant_(layer.bias, 0.1)"
   ]
  },
  {
   "cell_type": "code",
   "execution_count": 484,
   "metadata": {
    "id": "uKNiPtnML8i9"
   },
   "outputs": [
    {
     "name": "stdout",
     "output_type": "stream",
     "text": [
      "Using device: cuda\n"
     ]
    }
   ],
   "source": [
    "device = torch.device(\"cuda\" if torch.cuda.is_available() else \"cpu\")\n",
    "print(f\"Using device: {device}\")"
   ]
  },
  {
   "cell_type": "markdown",
   "metadata": {
    "id": "zB3NGalaLlN1"
   },
   "source": [
    "## Dataset loading and processing"
   ]
  },
  {
   "cell_type": "code",
   "execution_count": 485,
   "metadata": {},
   "outputs": [],
   "source": [
    "DATA_PATH = \"./data/robot_orbital_bas\"\n",
    "CAMERAS_PATH = f\"{DATA_PATH}/cameras_attributes.npz\"\n",
    "DEPTHS_PATH = f\"{DATA_PATH}/depth\"\n",
    "\n",
    "FOV = 30.0\n",
    "DEPTHMAP_SIZE_RESCALE = 100/1920\n",
    "SCENE_SCALE = 1/1000\n",
    "\n",
    "# BASE DATASET STRUCTURE\n",
    "BASE_CAMERA_LOCATION_ENTRY = \"cameras_locations\"\n",
    "BASE_CAMERA_ANGLE_ENTRY = \"cameras_angle\"\n",
    "\n",
    "# TARGET DATASET STRUCTURE\n",
    "RAYS_ENTRY = \"rays\"\n",
    "RAY_ORIGINS_ENTRY = \"ray_origins\"\n",
    "RAY_DIRECTIONS_ENTRY = \"ray_directions\"\n",
    "DEPTH_MAP_ENTRY = \"depth_map\"\n",
    "CAMERA_POS_ENTRY = \"camera_pos\"\n",
    "CAMERA_ANGLE_ENTRY = \"camera_angle\"\n",
    "VALID_INDICES_ENTRY = \"valid_indices\"\n",
    "VALID_2D_INDICES_ENTRY = \"valid_2D_indices\"\n"
   ]
  },
  {
   "cell_type": "code",
   "execution_count": 486,
   "metadata": {
    "id": "1w2QkjCkLc9Z"
   },
   "outputs": [
    {
     "name": "stdout",
     "output_type": "stream",
     "text": [
      "Loading depth maps, generating rays, and sorting by depth...\n",
      "Successfully generated 16 entries!\n"
     ]
    }
   ],
   "source": [
    "# Load camera transforms\n",
    "cameras = np.load(CAMERAS_PATH)\n",
    "\n",
    "# Near and far clipping thresholds for depth values\n",
    "near_thresh = 0.01\n",
    "far_thresh = 500.0\n",
    "\n",
    "# Initialize dataset\n",
    "dataset = {}\n",
    "\n",
    "print(\"Loading depth maps, generating rays, and sorting by depth...\")\n",
    "# Load depth maps\n",
    "for filename in os.listdir(DEPTHS_PATH):\n",
    "    # Extract the index from the filename\n",
    "    index = re.search(r'\\d+', filename)\n",
    "    if index:\n",
    "        index_value = int(index.group())\n",
    "\n",
    "        # Ignore invalid entries\n",
    "        angle_norm = np.linalg.norm(cameras[BASE_CAMERA_ANGLE_ENTRY][index_value])\n",
    "        if angle_norm < 1 - 1e-6:\n",
    "            print(f\"- Skipping index {index_value} due to invalid angle norm: {angle_norm}\")\n",
    "            continue\n",
    "\n",
    "        # Load the depth map\n",
    "        depth_map_path = os.path.join(DEPTHS_PATH, filename)\n",
    "        depth_map = cv2.imread(depth_map_path, cv2.IMREAD_ANYCOLOR | cv2.IMREAD_ANYDEPTH)\n",
    "\n",
    "        # Resize the depth map\n",
    "        new_width = int(depth_map.shape[1] * DEPTHMAP_SIZE_RESCALE)\n",
    "        new_height = int(depth_map.shape[0] * DEPTHMAP_SIZE_RESCALE)\n",
    "        resized_depth_map = cv2.resize(depth_map, (new_width, new_height), interpolation=cv2.INTER_AREA)\n",
    "\n",
    "        # Scale down the depth (too high for the current model)\n",
    "        resized_depth_map = resized_depth_map * SCENE_SCALE\n",
    "\n",
    "        # Compute focal length from FOV\n",
    "        focal_length = fov_to_focal_length(FOV, new_width)\n",
    "\n",
    "        # Convert position and angle to transformation matrix\n",
    "        camera_pos = torch.tensor(cameras[BASE_CAMERA_LOCATION_ENTRY][index_value], dtype=torch.float32)\n",
    "        camera_angle = torch.tensor(cameras[BASE_CAMERA_ANGLE_ENTRY][index_value], dtype=torch.float32)\n",
    "        tform_cam2world = pos_angle_to_tform_cam2world(camera_pos, camera_angle)\n",
    "\n",
    "        # Generate ray bundle\n",
    "        ray_origins, ray_directions = get_ray_bundle(new_height, new_width, focal_length, tform_cam2world)\n",
    "\n",
    "        # Store in the dataset\n",
    "        dataset[index_value] = {\n",
    "            RAYS_ENTRY: {\n",
    "                RAY_ORIGINS_ENTRY: ray_origins,\n",
    "                RAY_DIRECTIONS_ENTRY: ray_directions\n",
    "            },\n",
    "            DEPTH_MAP_ENTRY: resized_depth_map,\n",
    "            CAMERA_POS_ENTRY: camera_pos,\n",
    "            CAMERA_ANGLE_ENTRY: camera_angle\n",
    "        }\n",
    "\n",
    "# Manually remove invalid entries\n",
    "DATASET_SIZE = len(dataset)\n",
    "print(f\"Successfully generated {DATASET_SIZE} entries!\")\n"
   ]
  },
  {
   "cell_type": "code",
   "execution_count": 487,
   "metadata": {},
   "outputs": [
    {
     "data": {
      "image/png": "[encoded data removed]",
      "text/plain": [
       "<Figure size 1200x600 with 2 Axes>"
      ]
     },
     "metadata": {},
     "output_type": "display_data"
    },
    {
     "data": {
      "image/png": "[encoded data removed]",
      "text/plain": [
       "<Figure size 1200x600 with 2 Axes>"
      ]
     },
     "metadata": {},
     "output_type": "display_data"
    }
   ],
   "source": [
    "display_every = 10\n",
    "for idx, data in dataset.items():\n",
    "    if idx % display_every == 0:\n",
    "        depth_image = data[DEPTH_MAP_ENTRY]\n",
    "        ray_origins = data[RAYS_ENTRY][RAY_ORIGINS_ENTRY]\n",
    "        ray_directions = data[RAYS_ENTRY][RAY_DIRECTIONS_ENTRY]\n",
    "        camera_pos = data[CAMERA_POS_ENTRY]\n",
    "        camera_angle = data[CAMERA_ANGLE_ENTRY]\n",
    "\n",
    "        # Normalize rays for RGB visualization\n",
    "        ray_rgb = (ray_directions - ray_directions.min()) / (ray_directions.max() - ray_directions.min())\n",
    "\n",
    "        # Create a 2x1 plot\n",
    "        fig, axes = plt.subplots(1, 2, figsize=(12, 6))\n",
    "\n",
    "        # Depth map\n",
    "        axes[0].imshow(depth_image, cmap='gray')\n",
    "        axes[0].set_title(f\"Depth Map (Index {idx})\")\n",
    "        axes[0].axis('off')\n",
    "\n",
    "        # Ray directions as RGB\n",
    "        axes[1].imshow(ray_rgb.numpy())\n",
    "        axes[1].set_title(f\"Ray Directions (Index {idx})\")\n",
    "        axes[1].axis('off')\n",
    "\n",
    "        # plt.suptitle(f\"Camera Pos: {camera_pos}, Angle: {camera_angle}\")\n",
    "        # Format the camera angle to two decimal places\n",
    "        formatted_angle = ', '.join([f\"{angle:.2f}\" for angle in camera_angle])\n",
    "        formatted_pos = ', '.join([f\"{pos:.2f}\" for pos in camera_pos])\n",
    "\n",
    "        # Update the plot title\n",
    "        plt.suptitle(f\"Pos: {formatted_pos}, Angle: {formatted_angle}\")\n",
    "        plt.show()"
   ]
  },
  {
   "cell_type": "code",
   "execution_count": 488,
   "metadata": {},
   "outputs": [
    {
     "name": "stdout",
     "output_type": "stream",
     "text": [
      "Post-processing dataset...\n",
      "Percentage of filtered-out values: 53.43%\n",
      "Percentage of filtered-out values: 83.48%\n",
      "Percentage of filtered-out values: 83.02%\n",
      "Percentage of filtered-out values: 82.66%\n",
      "Percentage of filtered-out values: 81.68%\n",
      "Percentage of filtered-out values: 75.00%\n",
      "Percentage of filtered-out values: 63.77%\n",
      "Percentage of filtered-out values: 52.62%\n",
      "Percentage of filtered-out values: 62.07%\n",
      "Percentage of filtered-out values: 72.73%\n",
      "Percentage of filtered-out values: 76.07%\n",
      "Percentage of filtered-out values: 78.88%\n",
      "Percentage of filtered-out values: 81.36%\n",
      "Percentage of filtered-out values: 82.88%\n",
      "Percentage of filtered-out values: 83.77%\n",
      "Percentage of filtered-out values: 83.98%\n",
      "Post-processing complete!\n"
     ]
    }
   ],
   "source": [
    "# Pre-pass function to filter depth and corresponding ray data\n",
    "def sort_and_filter_depth_map(depth_map, ray_origins, ray_directions):\n",
    "    # Flatten depth map and corresponding rays\n",
    "    depth_flat = depth_map.flatten()\n",
    "    ray_origins_flat = ray_origins.reshape(-1, 3)\n",
    "    ray_directions_flat = ray_directions.reshape(-1, 3)\n",
    "\n",
    "    # Validate shapes\n",
    "    if len(depth_flat) != len(ray_origins_flat) or len(depth_flat) != len(ray_directions_flat):\n",
    "        raise ValueError(f\"Shape mismatch: depth {len(depth_flat)}, rays {len(ray_origins_flat)}\")\n",
    "\n",
    "    # Find maximum depth\n",
    "    far_thresh = np.max(depth_flat)\n",
    "\n",
    "    # Filter out max depth values\n",
    "    valid_mask = depth_flat < far_thresh\n",
    "    valid_indices = np.where(valid_mask)[0]\n",
    "\n",
    "    # Calculate and print the percentage of sorted-out values\n",
    "    removed_percentage = 100 * (len(depth_flat) - len(valid_indices)) / len(depth_flat)\n",
    "    print(f\"Percentage of filtered-out values: {removed_percentage:.2f}%\")\n",
    "\n",
    "    # Extract corresponding valid data\n",
    "    filtered_depth = depth_flat[valid_indices]\n",
    "    filtered_ray_origins = ray_origins_flat[valid_indices]\n",
    "    filtered_ray_directions = ray_directions_flat[valid_indices]\n",
    "\n",
    "    # Compute 2D indices\n",
    "    height, width = depth_map.shape\n",
    "    valid_2d_indices = np.column_stack(np.unravel_index(valid_indices, (height, width)))\n",
    "\n",
    "    return filtered_depth, filtered_ray_origins, filtered_ray_directions, valid_indices, valid_2d_indices\n",
    "\n",
    "# Post-process dataset to sort and filter depth maps\n",
    "def post_process_dataset(dataset):\n",
    "    print(\"Post-processing dataset...\")\n",
    "\n",
    "    for index, entry in dataset.items():\n",
    "        try:\n",
    "            # Store old values (for reconstruction)\n",
    "            dataset[index][\"OLD\" + DEPTH_MAP_ENTRY] = dataset[index][DEPTH_MAP_ENTRY]\n",
    "            dataset[index][\"OLD\" + RAYS_ENTRY] = {}\n",
    "            dataset[index][\"OLD\" + RAYS_ENTRY][RAY_ORIGINS_ENTRY] =  dataset[index][RAYS_ENTRY][RAY_ORIGINS_ENTRY]\n",
    "            dataset[index][\"OLD\" + RAYS_ENTRY][RAY_DIRECTIONS_ENTRY] =  dataset[index][RAYS_ENTRY][RAY_DIRECTIONS_ENTRY]\n",
    "            dataset[index][\"OLD\" + CAMERA_POS_ENTRY] = dataset[index][CAMERA_POS_ENTRY]\n",
    "\n",
    "            # Extract depth map and ray data\n",
    "            depth_map = entry[DEPTH_MAP_ENTRY]\n",
    "            ray_origins = entry[RAYS_ENTRY][RAY_ORIGINS_ENTRY]\n",
    "            ray_directions = entry[RAYS_ENTRY][RAY_DIRECTIONS_ENTRY]\n",
    "\n",
    "            # Apply sorting and filtering\n",
    "            sorted_depth, sorted_ray_origins, sorted_ray_directions, valid_indices, valid_2D_indices = sort_and_filter_depth_map(depth_map, ray_origins, ray_directions)\n",
    "\n",
    "            # Update dataset entry\n",
    "            dataset[index][DEPTH_MAP_ENTRY] = sorted_depth / 10.0\n",
    "            dataset[index][RAYS_ENTRY][RAY_ORIGINS_ENTRY] = sorted_ray_origins / 10.0\n",
    "            dataset[index][RAYS_ENTRY][RAY_DIRECTIONS_ENTRY] = sorted_ray_directions\n",
    "            dataset[index][CAMERA_POS_ENTRY] = dataset[index][CAMERA_POS_ENTRY] / 10.0\n",
    "            dataset[index][VALID_INDICES_ENTRY] = valid_indices\n",
    "            dataset[index][VALID_2D_INDICES_ENTRY] = valid_2D_indices\n",
    "        except Exception as e:\n",
    "            print(f\"Error processing index {index}: {e}\")\n",
    "\n",
    "    print(\"Post-processing complete!\")\n",
    "    return dataset\n",
    "\n",
    "\n",
    "# Apply post-processing\n",
    "dataset = post_process_dataset(dataset)"
   ]
  },
  {
   "cell_type": "markdown",
   "metadata": {
    "id": "XFUaajNpNNgJ"
   },
   "source": [
    "## Train !"
   ]
  },
  {
   "cell_type": "markdown",
   "metadata": {},
   "source": [
    "### Sphere tracing\n",
    "This method renders a depth map using the model's predictions to dynamically adjust step size during ray marching."
   ]
  },
  {
   "cell_type": "code",
   "execution_count": 489,
   "metadata": {},
   "outputs": [],
   "source": [
    "def render_depth_sphere_tracing(\n",
    "    distance_field_model: torch.nn.Module,\n",
    "    ray_origins: torch.Tensor,\n",
    "    ray_directions: torch.Tensor,\n",
    "    depth_map: torch.Tensor,\n",
    "    near_thresh: float,\n",
    "    max_iterations: int = 50,\n",
    "    grad = True,\n",
    ") -> torch.Tensor:\n",
    "\n",
    "    # Create a tensor to track active rays\n",
    "    active_mask = torch.ones_like(depth_map, dtype=torch.bool)\n",
    "\n",
    "    # Predicted depth map\n",
    "    dstTravelled = torch.full_like(depth_map, 0, requires_grad=True)\n",
    "    steps = torch.zeros_like(active_mask, dtype=torch.float32)\n",
    "    \n",
    "    all_query_points = []\n",
    "    all_predicted_distances = []\n",
    "\n",
    "    for i in range(max_iterations):\n",
    "        # Stop if no active rays remain\n",
    "        if not torch.any(active_mask):\n",
    "            break\n",
    "        \n",
    "        # Compute the query points\n",
    "        query_points = ray_origins + ray_directions * dstTravelled[..., None]\n",
    "        query_points.requires_grad_()\n",
    "        \n",
    "        # Predict distances using the model\n",
    "        predicted_distances = distance_field_model(query_points).squeeze(-1)\n",
    "        \n",
    "        # Increment the steps for active rays\n",
    "        steps = torch.where(active_mask, steps + 1, steps)\n",
    "\n",
    "        # Mask for rays that are within the surface threshold\n",
    "        hit_mask = (predicted_distances < near_thresh) & active_mask\n",
    "\n",
    "        # Store active query points and predictions\n",
    "        all_query_points.append(query_points[~hit_mask])\n",
    "        all_predicted_distances.append(predicted_distances[~hit_mask])\n",
    "\n",
    "        # Update active mask to deactivate rays that hit\n",
    "        active_mask = active_mask & ~hit_mask\n",
    "        \n",
    "        # Update the depth map only for rays that have hit\n",
    "        dstTravelled = torch.where(active_mask, dstTravelled + predicted_distances, dstTravelled)\n",
    "\n",
    "    # Concatenate query points and distances\n",
    "    all_query_points = torch.cat(all_query_points, dim=0)\n",
    "    all_predicted_distances = torch.cat(all_predicted_distances, dim=0)\n",
    "\n",
    "    return dstTravelled, steps, all_query_points, all_predicted_distances"
   ]
  },
  {
   "cell_type": "markdown",
   "metadata": {},
   "source": [
    "### Eikonal loss function"
   ]
  },
  {
   "cell_type": "code",
   "execution_count": 490,
   "metadata": {},
   "outputs": [],
   "source": [
    "def compute_gradients(model, query_points, eps=1e-4, sample_ratio=0.1):\n",
    "    \"\"\"\n",
    "    Computes numerical gradients of SDF using finite differences.\n",
    "\n",
    "    Args:\n",
    "    - model: The implicit function.\n",
    "    - query_points: Tensor of shape [N, 3], query points.\n",
    "    - eps: Small step for finite differences.\n",
    "    - sample_ratio: Fraction of points to sample for gradient computation.\n",
    "\n",
    "    Returns:\n",
    "    - gradients: Tensor of shape [sampled_N, 3], computed gradients.\n",
    "    \"\"\"\n",
    "    N = query_points.shape[0]\n",
    "    device = query_points.device\n",
    "\n",
    "    # Randomly sample query points\n",
    "    nb_samples = min(int(N * sample_ratio), 5000)\n",
    "    sampled_indices = torch.randperm(N, device=device)[:nb_samples]\n",
    "    sampled_points = query_points[sampled_indices]\n",
    "\n",
    "    # Allocate memory for gradients\n",
    "    gradients = torch.zeros_like(sampled_points, device=device)\n",
    "\n",
    "    for i in range(3):  # Compute gradient w.r.t x, y, z\n",
    "        offset = torch.zeros_like(sampled_points, device=device)\n",
    "        offset[:, i] = eps\n",
    "\n",
    "        forward_points = sampled_points + offset\n",
    "        backward_points = sampled_points - offset\n",
    "\n",
    "        forward_sdf = model(forward_points).squeeze(-1)\n",
    "        backward_sdf = model(backward_points).squeeze(-1)\n",
    "\n",
    "        # Central finite difference\n",
    "        gradients[:, i] = (forward_sdf - backward_sdf) / (2 * eps)\n",
    "\n",
    "    return gradients\n",
    "\n",
    "def compute_eikonal_loss(gradients):\n",
    "    \"\"\"\n",
    "    Computes the Eikonal loss using the computed gradients.\n",
    "\n",
    "    Args:\n",
    "    - gradients (torch.Tensor): Tensor of shape [N, 3] containing the gradients of SDF predictions.\n",
    "\n",
    "    Returns:\n",
    "    - loss (torch.Tensor): Computed Eikonal loss.\n",
    "    \"\"\"\n",
    "    # ||grad|| should be close to 1, compute the deviation from 1\n",
    "    loss = torch.mean(torch.abs(torch.norm(gradients, dim=-1) - 1))\n",
    "    return loss"
   ]
  },
  {
   "cell_type": "markdown",
   "metadata": {},
   "source": [
    "### Checkpoint saving and loading"
   ]
  },
  {
   "cell_type": "code",
   "execution_count": 491,
   "metadata": {},
   "outputs": [],
   "source": [
    "# Checkpoint saving function\n",
    "def save_checkpoint(model, optimizer, epoch, loss, checkpoint_path):\n",
    "    torch.save({\n",
    "        'epoch': epoch,\n",
    "        'model_state_dict': model.state_dict(),\n",
    "        'optimizer_state_dict': optimizer.state_dict(),\n",
    "        'loss': loss,\n",
    "    }, checkpoint_path)\n",
    "    # print(f\"Checkpoint saved at {checkpoint_path}\")\n",
    "\n",
    "# Checkpoint loading function\n",
    "def load_checkpoint(model, optimizer, checkpoint_path):\n",
    "    if os.path.isfile(checkpoint_path):\n",
    "        checkpoint = torch.load(checkpoint_path)\n",
    "        model.load_state_dict(checkpoint['model_state_dict'])\n",
    "        optimizer.load_state_dict(checkpoint['optimizer_state_dict'])\n",
    "        epoch = checkpoint['epoch']\n",
    "        loss = checkpoint['loss']\n",
    "        print(f\"Loaded checkpoint from {checkpoint_path}: Epoch {epoch}, Loss: {loss:.4f}\")\n",
    "        return epoch, loss\n",
    "    else:\n",
    "        print(f\"No checkpoint found at {checkpoint_path}\")\n",
    "        return 0, float('inf')"
   ]
  },
  {
   "cell_type": "markdown",
   "metadata": {},
   "source": [
    "### Training loop"
   ]
  },
  {
   "cell_type": "code",
   "execution_count": 492,
   "metadata": {},
   "outputs": [
    {
     "name": "stdout",
     "output_type": "stream",
     "text": [
      "No checkpoint found at checkpoints\\latest_checkpoint.pth\n"
     ]
    }
   ],
   "source": [
    "import os\n",
    "import torch\n",
    "import random\n",
    "\n",
    "# Learning parameters\n",
    "L = 5\n",
    "lr = 1e-5\n",
    "\n",
    "# Model and optimizer\n",
    "model = NeDFModel(L=L).to(device)\n",
    "model.apply(initialize_weights)\n",
    "model.output_layer.bias.data.fill_(1.0)  # Encourage positive values at initialization\n",
    "optimizer = torch.optim.Adam(model.parameters(), lr=lr)\n",
    "\n",
    "# Seed RNG\n",
    "seed = 9458\n",
    "torch.manual_seed(seed)\n",
    "np.random.seed(seed)\n",
    "\n",
    "# Load previous checkpoint if available\n",
    "checkpoint_dir = \"checkpoints\"\n",
    "os.makedirs(checkpoint_dir, exist_ok=True)\n",
    "start_epoch, best_loss = load_checkpoint(model, optimizer, os.path.join(checkpoint_dir, \"latest_checkpoint.pth\"))"
   ]
  },
  {
   "cell_type": "code",
   "execution_count": 493,
   "metadata": {},
   "outputs": [
    {
     "name": "stdout",
     "output_type": "stream",
     "text": [
      "[ -7.358034  -24.609423  -16.438799  -18.90588   -10.933479   -3.677443\n",
      "  -5.5138693 -14.794795  -11.695053   -5.4828463]\n"
     ]
    }
   ],
   "source": [
    "# Test model with random points\n",
    "with torch.no_grad():\n",
    "    scale = 100\n",
    "    test_points = torch.rand(10, 3, device=device) * scale - torch.tensor([scale/2, scale/2, scale/2], device=device)\n",
    "    predicted_distances = model(test_points).squeeze(-1).detach().cpu().numpy()\n",
    "    print(predicted_distances)"
   ]
  },
  {
   "cell_type": "code",
   "execution_count": 495,
   "metadata": {
    "colab": {
     "base_uri": "https://localhost:8080/",
     "height": 1000
    },
    "id": "JovhcSy1NIhr",
    "outputId": "50f322e3-552b-4802-e03e-1e5237a64ecf"
   },
   "outputs": [
    {
     "name": "stderr",
     "output_type": "stream",
     "text": [
      "C:\\Users\\Alex\\AppData\\Local\\Temp\\ipykernel_10820\\2980322250.py:20: UserWarning: To copy construct from a tensor, it is recommended to use sourceTensor.clone().detach() or sourceTensor.clone().detach().requires_grad_(True), rather than torch.tensor(sourceTensor).\n",
      "  ray_origins = torch.cat([torch.tensor(data[RAYS_ENTRY][RAY_ORIGINS_ENTRY], dtype=torch.float32) for data in data_batch]).to(device)\n",
      "C:\\Users\\Alex\\AppData\\Local\\Temp\\ipykernel_10820\\2980322250.py:21: UserWarning: To copy construct from a tensor, it is recommended to use sourceTensor.clone().detach() or sourceTensor.clone().detach().requires_grad_(True), rather than torch.tensor(sourceTensor).\n",
      "  ray_directions = torch.cat([torch.tensor(data[RAYS_ENTRY][RAY_DIRECTIONS_ENTRY], dtype=torch.float32) for data in data_batch]).to(device)\n"
     ]
    },
    {
     "data": {
      "image/png": "[encoded data removed]",
      "text/plain": [
       "<Figure size 1000x500 with 2 Axes>"
      ]
     },
     "metadata": {},
     "output_type": "display_data"
    },
    {
     "name": "stdout",
     "output_type": "stream",
     "text": [
      "\n",
      "### Step 0 ###\n",
      "Average steps: 2.32\n",
      "Total loss: 60.75 (Depth: 1.14, Eikonal: 29.80)\n",
      "Best loss: 52.41\n"
     ]
    },
    {
     "data": {
      "image/png": "[encoded data removed]",
      "text/plain": [
       "<Figure size 1000x500 with 2 Axes>"
      ]
     },
     "metadata": {},
     "output_type": "display_data"
    },
    {
     "name": "stdout",
     "output_type": "stream",
     "text": [
      "\n",
      "### Step 10 ###\n",
      "Average steps: 2.32\n",
      "Total loss: 52.26 (Depth: 1.13, Eikonal: 25.57)\n",
      "Best loss: 52.41\n",
      "New best loss!\n"
     ]
    },
    {
     "ename": "KeyboardInterrupt",
     "evalue": "",
     "output_type": "error",
     "traceback": [
      "\u001b[1;31m---------------------------------------------------------------------------\u001b[0m",
      "\u001b[1;31mKeyboardInterrupt\u001b[0m                         Traceback (most recent call last)",
      "Cell \u001b[1;32mIn[495], line 70\u001b[0m\n\u001b[0;32m     68\u001b[0m \u001b[38;5;66;03m# Backpropagation\u001b[39;00m\n\u001b[0;32m     69\u001b[0m optimizer\u001b[38;5;241m.\u001b[39mzero_grad()\n\u001b[1;32m---> 70\u001b[0m \u001b[43mtotal_loss\u001b[49m\u001b[38;5;241;43m.\u001b[39;49m\u001b[43mbackward\u001b[49m\u001b[43m(\u001b[49m\u001b[43m)\u001b[49m\n\u001b[0;32m     71\u001b[0m optimizer\u001b[38;5;241m.\u001b[39mstep()\n\u001b[0;32m     73\u001b[0m \u001b[38;5;66;03m# Display Progress\u001b[39;00m\n",
      "File \u001b[1;32m~\\AppData\\Local\\Packages\\PythonSoftwareFoundation.Python.3.11_qbz5n2kfra8p0\\LocalCache\\local-packages\\Python311\\site-packages\\torch\\_tensor.py:581\u001b[0m, in \u001b[0;36mTensor.backward\u001b[1;34m(self, gradient, retain_graph, create_graph, inputs)\u001b[0m\n\u001b[0;32m    571\u001b[0m \u001b[38;5;28;01mif\u001b[39;00m has_torch_function_unary(\u001b[38;5;28mself\u001b[39m):\n\u001b[0;32m    572\u001b[0m     \u001b[38;5;28;01mreturn\u001b[39;00m handle_torch_function(\n\u001b[0;32m    573\u001b[0m         Tensor\u001b[38;5;241m.\u001b[39mbackward,\n\u001b[0;32m    574\u001b[0m         (\u001b[38;5;28mself\u001b[39m,),\n\u001b[1;32m   (...)\u001b[0m\n\u001b[0;32m    579\u001b[0m         inputs\u001b[38;5;241m=\u001b[39minputs,\n\u001b[0;32m    580\u001b[0m     )\n\u001b[1;32m--> 581\u001b[0m \u001b[43mtorch\u001b[49m\u001b[38;5;241;43m.\u001b[39;49m\u001b[43mautograd\u001b[49m\u001b[38;5;241;43m.\u001b[39;49m\u001b[43mbackward\u001b[49m\u001b[43m(\u001b[49m\n\u001b[0;32m    582\u001b[0m \u001b[43m    \u001b[49m\u001b[38;5;28;43mself\u001b[39;49m\u001b[43m,\u001b[49m\u001b[43m \u001b[49m\u001b[43mgradient\u001b[49m\u001b[43m,\u001b[49m\u001b[43m \u001b[49m\u001b[43mretain_graph\u001b[49m\u001b[43m,\u001b[49m\u001b[43m \u001b[49m\u001b[43mcreate_graph\u001b[49m\u001b[43m,\u001b[49m\u001b[43m \u001b[49m\u001b[43minputs\u001b[49m\u001b[38;5;241;43m=\u001b[39;49m\u001b[43minputs\u001b[49m\n\u001b[0;32m    583\u001b[0m \u001b[43m\u001b[49m\u001b[43m)\u001b[49m\n",
      "File \u001b[1;32m~\\AppData\\Local\\Packages\\PythonSoftwareFoundation.Python.3.11_qbz5n2kfra8p0\\LocalCache\\local-packages\\Python311\\site-packages\\torch\\autograd\\__init__.py:347\u001b[0m, in \u001b[0;36mbackward\u001b[1;34m(tensors, grad_tensors, retain_graph, create_graph, grad_variables, inputs)\u001b[0m\n\u001b[0;32m    342\u001b[0m     retain_graph \u001b[38;5;241m=\u001b[39m create_graph\n\u001b[0;32m    344\u001b[0m \u001b[38;5;66;03m# The reason we repeat the same comment below is that\u001b[39;00m\n\u001b[0;32m    345\u001b[0m \u001b[38;5;66;03m# some Python versions print out the first line of a multi-line function\u001b[39;00m\n\u001b[0;32m    346\u001b[0m \u001b[38;5;66;03m# calls in the traceback and some print out the last line\u001b[39;00m\n\u001b[1;32m--> 347\u001b[0m \u001b[43m_engine_run_backward\u001b[49m\u001b[43m(\u001b[49m\n\u001b[0;32m    348\u001b[0m \u001b[43m    \u001b[49m\u001b[43mtensors\u001b[49m\u001b[43m,\u001b[49m\n\u001b[0;32m    349\u001b[0m \u001b[43m    \u001b[49m\u001b[43mgrad_tensors_\u001b[49m\u001b[43m,\u001b[49m\n\u001b[0;32m    350\u001b[0m \u001b[43m    \u001b[49m\u001b[43mretain_graph\u001b[49m\u001b[43m,\u001b[49m\n\u001b[0;32m    351\u001b[0m \u001b[43m    \u001b[49m\u001b[43mcreate_graph\u001b[49m\u001b[43m,\u001b[49m\n\u001b[0;32m    352\u001b[0m \u001b[43m    \u001b[49m\u001b[43minputs\u001b[49m\u001b[43m,\u001b[49m\n\u001b[0;32m    353\u001b[0m \u001b[43m    \u001b[49m\u001b[43mallow_unreachable\u001b[49m\u001b[38;5;241;43m=\u001b[39;49m\u001b[38;5;28;43;01mTrue\u001b[39;49;00m\u001b[43m,\u001b[49m\n\u001b[0;32m    354\u001b[0m \u001b[43m    \u001b[49m\u001b[43maccumulate_grad\u001b[49m\u001b[38;5;241;43m=\u001b[39;49m\u001b[38;5;28;43;01mTrue\u001b[39;49;00m\u001b[43m,\u001b[49m\n\u001b[0;32m    355\u001b[0m \u001b[43m\u001b[49m\u001b[43m)\u001b[49m\n",
      "File \u001b[1;32m~\\AppData\\Local\\Packages\\PythonSoftwareFoundation.Python.3.11_qbz5n2kfra8p0\\LocalCache\\local-packages\\Python311\\site-packages\\torch\\autograd\\graph.py:825\u001b[0m, in \u001b[0;36m_engine_run_backward\u001b[1;34m(t_outputs, *args, **kwargs)\u001b[0m\n\u001b[0;32m    823\u001b[0m     unregister_hooks \u001b[38;5;241m=\u001b[39m _register_logging_hooks_on_whole_graph(t_outputs)\n\u001b[0;32m    824\u001b[0m \u001b[38;5;28;01mtry\u001b[39;00m:\n\u001b[1;32m--> 825\u001b[0m     \u001b[38;5;28;01mreturn\u001b[39;00m \u001b[43mVariable\u001b[49m\u001b[38;5;241;43m.\u001b[39;49m\u001b[43m_execution_engine\u001b[49m\u001b[38;5;241;43m.\u001b[39;49m\u001b[43mrun_backward\u001b[49m\u001b[43m(\u001b[49m\u001b[43m  \u001b[49m\u001b[38;5;66;43;03m# Calls into the C++ engine to run the backward pass\u001b[39;49;00m\n\u001b[0;32m    826\u001b[0m \u001b[43m        \u001b[49m\u001b[43mt_outputs\u001b[49m\u001b[43m,\u001b[49m\u001b[43m \u001b[49m\u001b[38;5;241;43m*\u001b[39;49m\u001b[43margs\u001b[49m\u001b[43m,\u001b[49m\u001b[43m \u001b[49m\u001b[38;5;241;43m*\u001b[39;49m\u001b[38;5;241;43m*\u001b[39;49m\u001b[43mkwargs\u001b[49m\n\u001b[0;32m    827\u001b[0m \u001b[43m    \u001b[49m\u001b[43m)\u001b[49m  \u001b[38;5;66;03m# Calls into the C++ engine to run the backward pass\u001b[39;00m\n\u001b[0;32m    828\u001b[0m \u001b[38;5;28;01mfinally\u001b[39;00m:\n\u001b[0;32m    829\u001b[0m     \u001b[38;5;28;01mif\u001b[39;00m attach_logging_hooks:\n",
      "\u001b[1;31mKeyboardInterrupt\u001b[0m: "
     ]
    }
   ],
   "source": [
    "# Training parameters\n",
    "display_every = 10\n",
    "save_every = 50  # Save every n iterations\n",
    "batch_size = 1024*8  # Number of rays per batch\n",
    "eikonal_penalty_weight = 2\n",
    "\n",
    "num_iters = start_epoch + 10000\n",
    "near_thresh = 0.1\n",
    "\n",
    "# Training Loop (Random Ray Sampling Without Loop)\n",
    "for i in range(start_epoch, num_iters):\n",
    "    # Sample random dataset indices\n",
    "    indices = torch.randint(0, len(dataset), (batch_size,))\n",
    "    # Extract data for all sampled indices\n",
    "    # data_batch = [list(dataset.values())[idx] for idx in indices.cpu().numpy()]\n",
    "    data_batch = [list(dataset.values())[0]]\n",
    "\n",
    "    # Flatten ray and depth arrays for uniform sampling\n",
    "    target_depth = torch.cat([torch.tensor(data[DEPTH_MAP_ENTRY], dtype=torch.float32) for data in data_batch]).to(device)\n",
    "    ray_origins = torch.cat([torch.tensor(data[RAYS_ENTRY][RAY_ORIGINS_ENTRY], dtype=torch.float32) for data in data_batch]).to(device)\n",
    "    ray_directions = torch.cat([torch.tensor(data[RAYS_ENTRY][RAY_DIRECTIONS_ENTRY], dtype=torch.float32) for data in data_batch]).to(device)\n",
    "\n",
    "    # Sample random pixel coordinates from the flattened array\n",
    "    rand_coords = torch.randint(0, target_depth.shape[0], (batch_size,))\n",
    "\n",
    "    # Gather samples\n",
    "    sampled_depth = target_depth[rand_coords]\n",
    "    sampled_ray_origins = ray_origins[rand_coords]\n",
    "    sampled_ray_directions = ray_directions[rand_coords]\n",
    "\n",
    "    # Ensure there are valid samples left after sampling\n",
    "    if sampled_ray_origins.shape[0] == 0:\n",
    "        print(\"No valid samples found, skipping this batch.\")\n",
    "        continue\n",
    "\n",
    "    # Perform sphere tracing\n",
    "    depth_predicted, steps, query_points, query_results = render_depth_sphere_tracing(\n",
    "        model, sampled_ray_origins, sampled_ray_directions, sampled_depth, near_thresh\n",
    "    )\n",
    "\n",
    "    # Correctly reshape to the largest possible square\n",
    "    valid_size = int(torch.sqrt(torch.tensor(sampled_depth.shape[0], dtype=torch.float32)).floor().item())\n",
    "    reshaped_predicted = depth_predicted[:valid_size**2].view(valid_size, valid_size).detach().cpu().numpy()\n",
    "    reshaped_target = sampled_depth[:valid_size**2].view(valid_size, valid_size).detach().cpu().numpy()\n",
    "\n",
    "    # Display predicted vs target depth\n",
    "    if i % display_every == 0:\n",
    "        fig, axes = plt.subplots(1, 2, figsize=(10, 5))\n",
    "        axes[0].imshow(reshaped_target, cmap='gray')\n",
    "        axes[0].set_title(\"Target Depth\")\n",
    "        axes[0].axis('off')\n",
    "\n",
    "        axes[1].imshow(reshaped_predicted, cmap='gray')\n",
    "        axes[1].set_title(\"Predicted Depth\")\n",
    "        axes[1].axis('off')\n",
    "        plt.show()\n",
    "\n",
    "    # Compute Loss\n",
    "    gradients = compute_gradients(model, query_points)\n",
    "    eikonal_loss = compute_eikonal_loss(gradients)\n",
    "    depth_loss = torch.nn.functional.mse_loss(depth_predicted, sampled_depth)\n",
    "    total_loss = depth_loss + eikonal_loss * eikonal_penalty_weight\n",
    "\n",
    "    if (total_loss == float('inf') or total_loss == float('nan')):\n",
    "        print(\"Loss is infinite or NaN, skipping this batch.\")\n",
    "        continue\n",
    "\n",
    "    # Backpropagation\n",
    "    optimizer.zero_grad()\n",
    "    total_loss.backward()\n",
    "    optimizer.step()\n",
    "\n",
    "    # Display Progress\n",
    "    if i % display_every == 0:\n",
    "        print(f\"\\n### Step {i} ###\")\n",
    "        print(f\"Average steps: {steps.mean().item():.2f}\")\n",
    "        print(f\"Total loss: {total_loss.item():.2f} (Depth: {depth_loss.item():.2f}, Eikonal: {eikonal_loss.item():.2f})\")\n",
    "        print(f\"Best loss: {best_loss:.2f}\")\n",
    "\n",
    "    # Save checkpoint periodically or if loss improves\n",
    "    if i % save_every == 0 or total_loss.item() < best_loss:\n",
    "        if total_loss.item() < best_loss:\n",
    "            print(\"New best loss!\")\n",
    "            best_loss = total_loss.item()\n",
    "        save_checkpoint(model, optimizer, i, total_loss.item(), os.path.join(checkpoint_dir, \"latest_checkpoint.pth\"))\n",
    "\n",
    "print(\"Training complete!\")"
   ]
  },
  {
   "cell_type": "markdown",
   "metadata": {},
   "source": [
    "## Inference"
   ]
  },
  {
   "cell_type": "code",
   "execution_count": null,
   "metadata": {},
   "outputs": [],
   "source": [
    "# Model and optimizer\n",
    "L = 5\n",
    "model = NeDFModel(L=L).to(device)\n",
    "optimizer = torch.optim.Adam(model.parameters(), lr=lr)\n",
    "\n",
    "# Load checkpoint\n",
    "checkpoint_dir = \"checkpoints\"\n",
    "os.makedirs(checkpoint_dir, exist_ok=True)\n",
    "start_epoch, best_loss = load_checkpoint(model, optimizer, os.path.join(checkpoint_dir, \"latest_checkpoint.pth\"))"
   ]
  },
  {
   "cell_type": "markdown",
   "metadata": {},
   "source": [
    "### Testing on train dataset"
   ]
  },
  {
   "cell_type": "code",
   "execution_count": null,
   "metadata": {},
   "outputs": [],
   "source": [
    "for i in range(DATASET_SIZE//4):\n",
    "    # Select one dataset entry\n",
    "    data_entry = dataset[i]\n",
    "\n",
    "    # Extract old depth and ray data\n",
    "    old_target_depth = torch.tensor(data_entry[\"OLD\" + DEPTH_MAP_ENTRY], dtype=torch.float32, device=device)\n",
    "    old_ray_origins = torch.tensor(data_entry[\"OLD\" + RAYS_ENTRY][RAY_ORIGINS_ENTRY], dtype=torch.float32, device=device)\n",
    "    old_ray_directions = torch.tensor(data_entry[\"OLD\" + RAYS_ENTRY][RAY_DIRECTIONS_ENTRY], dtype=torch.float32, device=device)\n",
    "\n",
    "    # Perform inference on full data\n",
    "    width, height = old_ray_origins.shape[1], old_ray_origins.shape[0]\n",
    "    infinite_depth_map = torch.full((height, width), 10000.0, device=device) # Needed in sphere tracing to let rays go as far as they want\n",
    "    predicted_depth, _, _, _ = render_depth_sphere_tracing(\n",
    "        model, old_ray_origins, old_ray_directions, old_target_depth, near_thresh\n",
    "    )\n",
    "\n",
    "    # Initialize full depth maps with placeholder\n",
    "    width, height = old_ray_origins.shape[1], old_ray_origins.shape[0]\n",
    "    full_predicted_depth = predicted_depth.view(-1).clone()\n",
    "    full_target_depth = old_target_depth.view(-1).clone()\n",
    "\n",
    "    # Reshape to 2D\n",
    "    full_predicted_depth = full_predicted_depth.view(height, width)\n",
    "    full_target_depth = full_target_depth.view(height, width)\n",
    "\n",
    "    # Display predicted vs target depth\n",
    "    fig, axes = plt.subplots(1, 2, figsize=(10, 5))\n",
    "    axes[0].imshow(full_target_depth.detach().cpu().numpy(), cmap='gray')\n",
    "    axes[0].set_title(\"Target Depth\")\n",
    "    axes[0].axis('off')\n",
    "\n",
    "    axes[1].imshow(full_predicted_depth.detach().cpu().numpy(), cmap='gray')\n",
    "    axes[1].set_title(\"Predicted Depth\")\n",
    "    axes[1].axis('off')\n",
    "    plt.show()\n"
   ]
  },
  {
   "cell_type": "markdown",
   "metadata": {},
   "source": [
    "### Tesing on new camera angles"
   ]
  },
  {
   "cell_type": "code",
   "execution_count": null,
   "metadata": {},
   "outputs": [],
   "source": [
    "for i in range(DATASET_SIZE//4):\n",
    "    # Interpolate between two camera positions\n",
    "    data_entry1 = dataset[i]\n",
    "    data_entry2 = dataset[i + 1]\n",
    "\n",
    "    cam_pos1 = torch.tensor(data_entry1[CAMERA_POS_ENTRY], dtype=torch.float32, device=device)\n",
    "    cam_pos2 = torch.tensor(data_entry2[CAMERA_POS_ENTRY], dtype=torch.float32, device=device)\n",
    "\n",
    "    # Interpolation factor\n",
    "    alpha = 0.5\n",
    "    interpolated_cam_pos = cam_pos1 * (1 - alpha) + cam_pos2 * alpha\n",
    "\n",
    "    # Interpolate camera angles\n",
    "    cam_dir1 = torch.tensor(data_entry1[CAMERA_ANGLE_ENTRY], dtype=torch.float32, device=device)\n",
    "    cam_dir2 = torch.tensor(data_entry2[CAMERA_ANGLE_ENTRY], dtype=torch.float32, device=device)\n",
    "    interpolated_cam_dir = cam_dir1 * (1 - alpha) + cam_dir2 * alpha\n",
    "\n",
    "    # Generate new rays using the ray generation function\n",
    "    width, height = 100, 100\n",
    "    focal_length = fov_to_focal_length(FOV, width)\n",
    "    tform_cam2world = pos_angle_to_tform_cam2world(interpolated_cam_pos, interpolated_cam_dir)\n",
    "    ray_origins, ray_directions = get_ray_bundle(height, width, focal_length, tform_cam2world)\n",
    "    ray_origins = ray_origins.to(device)\n",
    "    ray_directions = ray_directions.to(device)\n",
    "\n",
    "    # Perform inference\n",
    "    infinite_depth_map = torch.full((height, width), 10000.0, device=device) # Needed in sphere tracing to let rays go as far as they want\n",
    "    predicted_depth, _, _, _ = render_depth_sphere_tracing(\n",
    "        model, ray_origins, ray_directions, infinite_depth_map, near_thresh\n",
    "    )\n",
    "\n",
    "    # Reshape and visualize\n",
    "    predicted_depth_2d = predicted_depth.view(height, width)\n",
    "\n",
    "    # Extract target depth for comparison from first entry\n",
    "    target_depth_2d = torch.tensor(data_entry1[\"OLD\" + DEPTH_MAP_ENTRY], dtype=torch.float32, device=device)\n",
    "\n",
    "    # Display predicted vs target depth\n",
    "    formatted_pos1 = ', '.join([f\"{pos:.2f}\" for pos in cam_pos1])\n",
    "    formatted_pos2 = ', '.join([f\"{pos:.2f}\" for pos in cam_pos2])\n",
    "    formatted_interpolated_cam_pos = ', '.join([f\"{pos:.2f}\" for pos in interpolated_cam_pos])\n",
    "    formatted_dir1 = ', '.join([f\"{dir:.2f}\" for dir in cam_dir1])\n",
    "    formatted_dir2 = ', '.join([f\"{dir:.2f}\" for dir in cam_dir2])\n",
    "    formatted_interpolated_cam_dir = ', '.join([f\"{dir:.2f}\" for dir in interpolated_cam_dir])\n",
    "\n",
    "    print(f\"Interpolating between indices {i} and {i + 1}...\")\n",
    "    print(f\"pos1: {formatted_pos1}, pos2: {formatted_pos2}, interpolated: {formatted_interpolated_cam_pos}\")\n",
    "    print(f\"dir1: {formatted_dir1}, dir2: {formatted_dir2}, interpolated: {formatted_interpolated_cam_dir}\")\n",
    "    \n",
    "    fig, axes = plt.subplots(1, 2, figsize=(15, 5))\n",
    "    axes[0].imshow(target_depth_2d.detach().cpu().numpy(), cmap='gray')\n",
    "    axes[0].set_title(\"Target Depth\")\n",
    "    axes[0].axis('off')\n",
    "\n",
    "    axes[1].imshow(predicted_depth_2d.detach().cpu().numpy(), cmap='gray')\n",
    "    axes[1].set_title(\"Predicted Depth\")\n",
    "    axes[1].axis('off')\n",
    "    plt.show()\n",
    "\n",
    "    \n",
    "    fig, axes = plt.subplots(1, 3, figsize=(5, 5))\n",
    "    ray_directions_1 = torch.tensor(data_entry1[\"OLD\" + RAYS_ENTRY][RAY_DIRECTIONS_ENTRY], dtype=torch.float32, device=device)\n",
    "    axes[0].imshow(ray_directions_1.detach().cpu().numpy())\n",
    "    axes[0].set_title(\"Ray Directions 1\")\n",
    "    axes[0].axis('off')\n",
    "\n",
    "    ray_directions_2 = torch.tensor(data_entry1[\"OLD\" + RAYS_ENTRY][RAY_DIRECTIONS_ENTRY], dtype=torch.float32, device=device)\n",
    "    axes[1].imshow(ray_directions_2.detach().cpu().numpy())\n",
    "    axes[1].set_title(\"Ray Directions 2\")\n",
    "    axes[1].axis('off')\n",
    "    \n",
    "    # Display interpolated ray directions as RGB\n",
    "    axes[2].imshow(ray_directions.detach().cpu().numpy())\n",
    "    axes[2].set_title(\"Interpolated Ray Directions\")\n",
    "    axes[2].axis('off')\n",
    "    plt.show()\n",
    "\n"
   ]
  }
 ],
 "metadata": {
  "accelerator": "GPU",
  "colab": {
   "provenance": []
  },
  "kernelspec": {
   "display_name": "Python 3",
   "name": "python3"
  },
  "language_info": {
   "codemirror_mode": {
    "name": "ipython",
    "version": 3
   },
   "file_extension": ".py",
   "mimetype": "text/x-python",
   "name": "python",
   "nbconvert_exporter": "python",
   "pygments_lexer": "ipython3",
   "version": "3.11.9"
  }
 },
 "nbformat": 4,
 "nbformat_minor": 0
}
