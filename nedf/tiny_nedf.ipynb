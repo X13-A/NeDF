{
 "cells": [
  {
   "cell_type": "markdown",
   "metadata": {
    "id": "XZh3aklt3ZET"
   },
   "source": [
    "## Tiny NeDF"
   ]
  },
  {
   "cell_type": "code",
   "execution_count": 1,
   "metadata": {
    "id": "ptTYjWao3VsM"
   },
   "outputs": [],
   "source": [
    "# Import all the good stuff\n",
    "import cv2\n",
    "import numpy as np\n",
    "import torch\n",
    "import matplotlib.pyplot as plt"
   ]
  },
  {
   "cell_type": "markdown",
   "metadata": {},
   "source": [
    "### Utilitary functions"
   ]
  },
  {
   "cell_type": "code",
   "execution_count": 2,
   "metadata": {},
   "outputs": [],
   "source": [
    "def meshgrid_xy(tensor1: torch.Tensor, tensor2: torch.Tensor) -> (torch.Tensor, torch.Tensor):\n",
    "    \"\"\"Mimick np.meshgrid(..., indexing=\"xy\") in pytorch. torch.meshgrid only allows \"ij\" indexing.\n",
    "    (If you're unsure what this means, safely skip trying to understand this, and run a tiny example!)\n",
    "\n",
    "    Args:\n",
    "      tensor1 (torch.Tensor): Tensor whose elements define the first dimension of the returned meshgrid.\n",
    "      tensor2 (torch.Tensor): Tensor whose elements define the second dimension of the returned meshgrid.\n",
    "    \"\"\"\n",
    "    # TESTED\n",
    "    ii, jj = torch.meshgrid(tensor1, tensor2)\n",
    "    return ii.transpose(-1, -2), jj.transpose(-1, -2)\n",
    "\n",
    "\n",
    "def cumprod_exclusive(tensor: torch.Tensor) -> torch.Tensor:\n",
    "  r\"\"\"Mimick functionality of tf.math.cumprod(..., exclusive=True), as it isn't available in PyTorch.\n",
    "\n",
    "  Args:\n",
    "    tensor (torch.Tensor): Tensor whose cumprod (cumulative product, see `torch.cumprod`) along dim=-1\n",
    "      is to be computed.\n",
    "\n",
    "  Returns:\n",
    "    cumprod (torch.Tensor): cumprod of Tensor along dim=-1, mimiciking the functionality of\n",
    "      tf.math.cumprod(..., exclusive=True) (see `tf.math.cumprod` for details).\n",
    "  \"\"\"\n",
    "  # TESTED\n",
    "  # Only works for the last dimension (dim=-1)\n",
    "  dim = -1\n",
    "  # Compute regular cumprod first (this is equivalent to `tf.math.cumprod(..., exclusive=False)`).\n",
    "  cumprod = torch.cumprod(tensor, dim)\n",
    "  # \"Roll\" the elements along dimension 'dim' by 1 element.\n",
    "  cumprod = torch.roll(cumprod, 1, dim)\n",
    "  # Replace the first element by \"1\" as this is what tf.cumprod(..., exclusive=True) does.\n",
    "  cumprod[..., 0] = 1.\n",
    "\n",
    "  return cumprod"
   ]
  },
  {
   "cell_type": "code",
   "execution_count": 3,
   "metadata": {
    "id": "EHNwlsOT7NTp"
   },
   "outputs": [],
   "source": [
    "def get_ray_bundle(height: int, width: int, focal_length: float, tform_cam2world: torch.Tensor):\n",
    "  r\"\"\"Compute the bundle of rays passing through all pixels of an image (one ray per pixel).\n",
    "\n",
    "  Args:\n",
    "    height (int): Height of an image (number of pixels).\n",
    "    width (int): Width of an image (number of pixels).\n",
    "    focal_length (float or torch.Tensor): Focal length (number of pixels, i.e., calibrated intrinsics).\n",
    "    tform_cam2world (torch.Tensor): A 6-DoF rigid-body transform (shape: :math:`(4, 4)`) that\n",
    "      transforms a 3D point from the camera frame to the \"world\" frame for the current example.\n",
    "\n",
    "  Returns:\n",
    "    ray_origins (torch.Tensor): A tensor of shape :math:`(width, height, 3)` denoting the centers of\n",
    "      each ray. `ray_origins[i][j]` denotes the origin of the ray passing through pixel at\n",
    "      row index `j` and column index `i`.\n",
    "      (TODO: double check if explanation of row and col indices convention is right).\n",
    "    ray_directions (torch.Tensor): A tensor of shape :math:`(width, height, 3)` denoting the\n",
    "      direction of each ray (a unit vector). `ray_directions[i][j]` denotes the direction of the ray\n",
    "      passing through the pixel at row index `j` and column index `i`.\n",
    "      (TODO: double check if explanation of row and col indices convention is right).\n",
    "  \"\"\"\n",
    "  # TESTED\n",
    "  ii, jj = meshgrid_xy(\n",
    "      torch.arange(width).to(tform_cam2world),\n",
    "      torch.arange(height).to(tform_cam2world)\n",
    "  )\n",
    "  directions = torch.stack([(ii - width * .5) / focal_length,\n",
    "                            -(jj - height * .5) / focal_length,\n",
    "                            -torch.ones_like(ii)\n",
    "                           ], dim=-1)\n",
    "  ray_directions = torch.sum(directions[..., None, :] * tform_cam2world[:3, :3], dim=-1)\n",
    "  ray_origins = tform_cam2world[:3, -1].expand(ray_directions.shape)\n",
    "  return ray_origins, ray_directions"
   ]
  },
  {
   "cell_type": "markdown",
   "metadata": {
    "id": "tgoNR03iIs7R"
   },
   "source": [
    "### Network architecture"
   ]
  },
  {
   "cell_type": "code",
   "execution_count": 22,
   "metadata": {
    "id": "UjFN6FNzIqxl"
   },
   "outputs": [],
   "source": [
    "class VeryTinyNeDFModel(torch.nn.Module):\n",
    "    r\"\"\"Define a \"very tiny\" NeDF model comprising three fully connected layers.\"\"\"\n",
    "    def __init__(self, filter_size=128, far_thresh=1000.0, L=10):\n",
    "        self.L = L\n",
    "        self.input_dim = 3 + 2 * L * 3 # Due to positional encoding\n",
    "        self.input_dim = 3 # Since we don't use it, just x,y,z\n",
    "        super(VeryTinyNeDFModel, self).__init__()\n",
    "        # Input layer (default: 3 + 2 * L * 3 -> 128 if positional encoding is enabled, 3 -> 128 otherwise)\n",
    "        self.layer1 = torch.nn.Linear(self.input_dim, filter_size)\n",
    "        # Layer 2 (default: 128 -> 128)\n",
    "        self.layer2 = torch.nn.Linear(filter_size, filter_size)\n",
    "        # Layer 3 (default: 128 -> 1) for predicting distance\n",
    "        self.layer3 = torch.nn.Linear(filter_size, 1)\n",
    "        # Short hand for torch.nn.functional.relu\n",
    "        self.relu = torch.nn.functional.relu\n",
    "        self.far_thresh = far_thresh\n",
    "\n",
    "    # Not convincing currently\n",
    "    def positional_encoding(self, x):\n",
    "        encoded = [x]\n",
    "        for i in range(self.L):\n",
    "            encoded.append(torch.sin(2**i * x))\n",
    "            encoded.append(torch.cos(2**i * x))\n",
    "        return torch.cat(encoded, dim=-1)\n",
    "\n",
    "    def forward(self, x):\n",
    "        # x = self.positional_encoding(x)\n",
    "        x = self.relu(self.layer1(x))\n",
    "        x = self.relu(self.layer2(x))\n",
    "        x = self.layer3(x) # Output is raw distance\n",
    "        return torch.clamp(x, min=0.0, max=self.far_thresh) # Clamp output to prevent crazy / negative distances\n"
   ]
  },
  {
   "cell_type": "markdown",
   "metadata": {
    "id": "Ierxw2dsL3pU"
   },
   "source": [
    "### GPU vs CPU ?"
   ]
  },
  {
   "cell_type": "code",
   "execution_count": 21,
   "metadata": {
    "id": "uKNiPtnML8i9"
   },
   "outputs": [
    {
     "name": "stdout",
     "output_type": "stream",
     "text": [
      "Using device: cuda\n"
     ]
    }
   ],
   "source": [
    "device = torch.device(\"cuda\" if torch.cuda.is_available() else \"cpu\")\n",
    "print(f\"Using device: {device}\")"
   ]
  },
  {
   "cell_type": "markdown",
   "metadata": {
    "id": "zB3NGalaLlN1"
   },
   "source": [
    "### Load input images, poses, intrinsics, etc."
   ]
  },
  {
   "cell_type": "code",
   "execution_count": 23,
   "metadata": {
    "id": "1w2QkjCkLc9Z"
   },
   "outputs": [
    {
     "name": "stdout",
     "output_type": "stream",
     "text": [
      "torch.Size([100, 100])\n"
     ]
    }
   ],
   "source": [
    "# Load input images, poses, and intrinsics\n",
    "data = np.load(\"depth_map_test.npz\")\n",
    "\n",
    "# Camera extrinsics (poses)\n",
    "testpose = data[\"pose\"]\n",
    "testpose = torch.from_numpy(testpose).to(device)\n",
    "\n",
    "# Focal length (intrinsics)\n",
    "focal_length = data[\"focal\"]\n",
    "focal_length = torch.from_numpy(focal_length).to(device)\n",
    "\n",
    "testimg = data[\"depth_map\"]\n",
    "# testimg = np.resize(testimg, (1, 1))\n",
    "testimg = torch.from_numpy(testimg).to(device)\n",
    "\n",
    "print(testimg.shape)\n",
    "# Height and width depth map\n",
    "height, width = testimg.shape[:2]\n",
    "\n",
    "# Near and far clipping thresholds for depth values.\n",
    "near_thresh = 0.01\n",
    "far_thresh = 500.0"
   ]
  },
  {
   "cell_type": "markdown",
   "metadata": {
    "id": "mVsKUODnM9KK"
   },
   "source": [
    "### Display the image used for testing"
   ]
  },
  {
   "cell_type": "code",
   "execution_count": 24,
   "metadata": {
    "colab": {
     "base_uri": "https://localhost:8080/",
     "height": 433
    },
    "id": "_04FamFHM7l8",
    "outputId": "f4999258-65d6-475d-a17c-a0836b8062c0"
   },
   "outputs": [
    {
     "data": {
      "image/png": "[encoded data removed]",
      "text/plain": [
       "<Figure size 640x480 with 1 Axes>"
      ]
     },
     "metadata": {},
     "output_type": "display_data"
    }
   ],
   "source": [
    "plt.imshow(testimg.detach().cpu().numpy(), cmap='gray')\n",
    "plt.show()"
   ]
  },
  {
   "cell_type": "markdown",
   "metadata": {
    "id": "XFUaajNpNNgJ"
   },
   "source": [
    "### Train !"
   ]
  },
  {
   "cell_type": "markdown",
   "metadata": {},
   "source": [
    "This method renders a depth map using the model's predictions to dynamically adjust step size during ray marching."
   ]
  },
  {
   "cell_type": "code",
   "execution_count": 25,
   "metadata": {},
   "outputs": [],
   "source": [
    "def render_depth_sphere_tracing(\n",
    "    distance_field_model: torch.nn.Module,\n",
    "    ray_origins: torch.Tensor,\n",
    "    ray_directions: torch.Tensor,\n",
    "    depth_map: torch.Tensor,\n",
    "    near_thresh: float,\n",
    "    max_iterations: int = 100\n",
    ") -> torch.Tensor:\n",
    "\n",
    "    # Create a tensor to track active rays\n",
    "    active_mask = torch.ones_like(depth_map, dtype=torch.bool)\n",
    "\n",
    "    # Predicted depth map\n",
    "    dstTravelled = torch.full_like(depth_map, 0, requires_grad=True)\n",
    "    steps = torch.zeros_like(active_mask, dtype=torch.float32)\n",
    "    \n",
    "    for i in range(max_iterations):\n",
    "        # Stop if no active rays remain\n",
    "        if not torch.any(active_mask):\n",
    "            break\n",
    "        \n",
    "        # Compute the query points\n",
    "        query_points = ray_origins + ray_directions * dstTravelled[..., None]\n",
    "        \n",
    "        # Predict distances using the model\n",
    "        query_points.requires_grad_()\n",
    "        predicted_distances = distance_field_model(query_points).squeeze(-1)\n",
    "\n",
    "        # Increment the steps for active rays\n",
    "        steps = torch.where(active_mask, steps + 1, steps)\n",
    "\n",
    "        # Mask for rays that are within the surface threshold or exceeding far_thresh\n",
    "        hit_mask = ((predicted_distances < near_thresh) | (dstTravelled >= depth_map)) & active_mask\n",
    "\n",
    "        # Update active mask to deactivate rays that hit\n",
    "        active_mask = active_mask & ~hit_mask\n",
    "        \n",
    "        # Update the depth map only for rays that have hit\n",
    "        dstTravelled = torch.where(active_mask, dstTravelled + predicted_distances, dstTravelled)\n",
    "\n",
    "    return dstTravelled, steps"
   ]
  },
  {
   "cell_type": "markdown",
   "metadata": {},
   "source": [
    "And now the training loop."
   ]
  },
  {
   "cell_type": "code",
   "execution_count": 26,
   "metadata": {
    "colab": {
     "base_uri": "https://localhost:8080/",
     "height": 1000
    },
    "id": "JovhcSy1NIhr",
    "outputId": "50f322e3-552b-4802-e03e-1e5237a64ecf"
   },
   "outputs": [
    {
     "name": "stdout",
     "output_type": "stream",
     "text": [
      "Step 0:\n",
      "Loss: 40738.86328125\n",
      "Average steps: 50.281898498535156\n",
      "Step 5:\n",
      "Loss: 4267479.0\n",
      "Average steps: 41.38399887084961\n",
      "Step 10:\n",
      "Loss: 1183413.375\n",
      "Average steps: 34.609100341796875\n",
      "Step 15:\n",
      "Loss: 3123542.75\n",
      "Average steps: 34.99039840698242\n",
      "Step 20:\n",
      "Loss: 516210.21875\n",
      "Average steps: 28.837499618530273\n",
      "Step 25:\n",
      "Loss: 2223.363525390625\n",
      "Average steps: 25.77859878540039\n",
      "Step 30:\n",
      "Loss: 1269.31787109375\n",
      "Average steps: 25.26609992980957\n",
      "Step 35:\n",
      "Loss: 3576.042724609375\n",
      "Average steps: 25.92719841003418\n",
      "Step 40:\n",
      "Loss: 246225.53125\n",
      "Average steps: 27.571298599243164\n",
      "Step 45:\n",
      "Loss: 180060.59375\n",
      "Average steps: 29.357898712158203\n",
      "Step 50:\n",
      "Loss: 290971.6875\n",
      "Average steps: 31.194698333740234\n",
      "Step 55:\n",
      "Loss: 262734.625\n",
      "Average steps: 32.8140983581543\n",
      "Step 60:\n",
      "Loss: 478934.96875\n",
      "Average steps: 34.31119918823242\n",
      "Step 65:\n",
      "Loss: 488055.28125\n",
      "Average steps: 36.07429885864258\n",
      "Step 70:\n",
      "Loss: 441667.875\n",
      "Average steps: 37.7068977355957\n",
      "Step 75:\n",
      "Loss: 518602.625\n",
      "Average steps: 39.1697998046875\n",
      "Step 80:\n",
      "Loss: 379093.6875\n",
      "Average steps: 40.61219787597656\n",
      "Step 85:\n",
      "Loss: 407073.59375\n",
      "Average steps: 42.0536003112793\n",
      "Step 90:\n",
      "Loss: 593208.9375\n",
      "Average steps: 44.158199310302734\n",
      "Step 95:\n",
      "Loss: 921758.625\n",
      "Average steps: 46.7947998046875\n",
      "Training done !\n",
      "Video saved successfully as depth_map_training.mp4\n"
     ]
    }
   ],
   "source": [
    "# Training parameters\n",
    "L = 5\n",
    "lr = 1e-4\n",
    "num_iters = 100\n",
    "\n",
    "# Misc parameters\n",
    "display_every = 5\n",
    "\n",
    "# Model\n",
    "model = VeryTinyNeDFModel(L=L)\n",
    "model.to(device)\n",
    "\n",
    "# Optimizer\n",
    "optimizer = torch.optim.Adam(model.parameters(), lr=lr)\n",
    "\n",
    "# Seed RNG\n",
    "seed = 9458\n",
    "torch.manual_seed(seed)\n",
    "np.random.seed(seed)\n",
    "\n",
    "# Setup training\n",
    "target_depth = testimg.float().to(device)\n",
    "target_tform_cam2world = testpose\n",
    "ray_origins, ray_directions = get_ray_bundle(height, width, focal_length, target_tform_cam2world)\n",
    "\n",
    "# Save depth maps for video\n",
    "depth_maps = []\n",
    "\n",
    "step_penalty_weight = 0.25  # Adjust weight to balance depth loss and step penalty\n",
    "alpha = 0.2  # Exponential growth factor for step penalty\n",
    "\n",
    "for i in range(num_iters):\n",
    "    # Use NeDF sphere tracing to compute the depth map and step count\n",
    "    depth_predicted, steps = render_depth_sphere_tracing(model, ray_origins, ray_directions, target_depth, near_thresh)\n",
    "\n",
    "    # Compute the mean-squared error loss between predicted and true depth map\n",
    "    depth_loss = torch.nn.functional.mse_loss(depth_predicted, target_depth)\n",
    "\n",
    "    # Exponential penalty for step count to prioritize reducing steps (not working)\n",
    "    step_penalty = torch.mean(torch.exp(alpha * steps))\n",
    "\n",
    "    # Combine the depth loss and step penalty\n",
    "    loss = depth_loss + step_penalty_weight * step_penalty\n",
    "\n",
    "    # Backpropagation and optimization\n",
    "    optimizer.zero_grad()\n",
    "    loss.backward()\n",
    "    optimizer.step()\n",
    "\n",
    "    # Display progress\n",
    "    if i % display_every == 0:\n",
    "        print(f\"Step {i}:\")\n",
    "        print(f\"Loss: {loss}\")\n",
    "        print(f\"Average steps: {steps.mean().item()}\")\n",
    "\n",
    "        # Convert depth map to image (normalize for visualization)\n",
    "        depth_img = depth_predicted.detach().cpu().numpy()\n",
    "        depth_img_normalized = (depth_img - depth_img.min()) / (depth_img.max() - depth_img.min()) * 255.0\n",
    "        depth_maps.append(depth_img_normalized.astype(np.uint8))\n",
    "\n",
    "        # Display the current depth map\n",
    "        # plt.imshow(depth_img_normalized, cmap='inferno')\n",
    "        # plt.title(f\"Iteration {i} - Depth Map\")\n",
    "        # plt.colorbar()\n",
    "        # plt.show()\n",
    "\n",
    "print('Training done !')\n",
    "\n",
    "# Save the video using OpenCV\n",
    "output_file = \"depth_map_training.mp4\"\n",
    "height, width = depth_maps[0].shape\n",
    "video_writer = cv2.VideoWriter(\n",
    "    output_file, cv2.VideoWriter_fourcc(*'mp4v'), 5, (width, height), isColor=True\n",
    ")\n",
    "\n",
    "# Write each depth map to the video\n",
    "for depth_map in depth_maps:\n",
    "    # Ensure grayscale map is expanded to (H, W, 3) to represent RGB channels\n",
    "    frame = np.stack([depth_map]*3, axis=-1)  # Duplicate grayscale into R, G, B\n",
    "    video_writer.write(frame)\n",
    "\n",
    "video_writer.release()\n",
    "print(f\"Video saved successfully as {output_file}\")"
   ]
  }
 ],
 "metadata": {
  "accelerator": "GPU",
  "colab": {
   "provenance": []
  },
  "kernelspec": {
   "display_name": "Python 3",
   "name": "python3"
  },
  "language_info": {
   "codemirror_mode": {
    "name": "ipython",
    "version": 3
   },
   "file_extension": ".py",
   "mimetype": "text/x-python",
   "name": "python",
   "nbconvert_exporter": "python",
   "pygments_lexer": "ipython3",
   "version": "3.11.9"
  }
 },
 "nbformat": 4,
 "nbformat_minor": 0
}
