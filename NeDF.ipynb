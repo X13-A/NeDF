{
 "cells": [
  {
   "cell_type": "markdown",
   "metadata": {},
   "source": [
    "# NeDF: Neural Distance Fields"
   ]
  },
  {
   "cell_type": "markdown",
   "metadata": {},
   "source": [
    "## Imports"
   ]
  },
  {
   "cell_type": "code",
   "execution_count": 1,
   "metadata": {},
   "outputs": [],
   "source": [
    "from dataset import *\n",
    "from utils import *\n",
    "from estimate_distance import *\n",
    "from settings import *\n",
    "from model import *\n",
    "from checkpoint import *\n",
    "from render import *\n",
    "\n",
    "import numpy as np\n",
    "import os\n",
    "import torch\n",
    "import random\n",
    "import math\n",
    "import collections\n",
    "import statistics"
   ]
  },
  {
   "cell_type": "markdown",
   "metadata": {},
   "source": [
    "## Load data"
   ]
  },
  {
   "cell_type": "code",
   "execution_count": null,
   "metadata": {},
   "outputs": [],
   "source": [
    "device = torch.device(\"cuda\" if torch.cuda.is_available() else \"cpu\")\n",
    "print(f\"Using device: {device}\")"
   ]
  },
  {
   "cell_type": "code",
   "execution_count": null,
   "metadata": {},
   "outputs": [],
   "source": [
    "dataset = load_dataset()"
   ]
  },
  {
   "cell_type": "code",
   "execution_count": null,
   "metadata": {},
   "outputs": [],
   "source": [
    "dataset = post_process_dataset(dataset)"
   ]
  },
  {
   "cell_type": "markdown",
   "metadata": {},
   "source": [
    "## Gradient and loss function"
   ]
  },
  {
   "cell_type": "code",
   "execution_count": 5,
   "metadata": {},
   "outputs": [],
   "source": [
    "def compute_gradients(model, query_points, eps=1e-4, sample_ratio=0.1):\n",
    "    \"\"\"\n",
    "    Computes numerical gradients of SDF using finite differences.\n",
    "\n",
    "    Args:\n",
    "    - model: The implicit function.\n",
    "    - query_points: Tensor of shape [N, 3], query points.\n",
    "    - eps: Small step for finite differences.\n",
    "    - sample_ratio: Fraction of points to sample for gradient computation.\n",
    "\n",
    "    Returns:\n",
    "    - gradients: Tensor of shape [sampled_N, 3], computed gradients.\n",
    "    \"\"\"\n",
    "    N = query_points.shape[0]\n",
    "    device = query_points.device\n",
    "\n",
    "    # Randomly sample query points\n",
    "    nb_samples = min(int(N * sample_ratio), 5000)\n",
    "    sampled_indices = torch.randperm(N, device=device)[:nb_samples]\n",
    "    sampled_points = query_points[sampled_indices]\n",
    "\n",
    "    # Allocate memory for gradients\n",
    "    gradients = torch.zeros_like(sampled_points, device=device)\n",
    "\n",
    "    for i in range(3):  # Compute gradient w.r.t x, y, z\n",
    "        offset = torch.zeros_like(sampled_points, device=device)\n",
    "        offset[:, i] = eps\n",
    "\n",
    "        forward_points = sampled_points + offset\n",
    "        backward_points = sampled_points - offset\n",
    "\n",
    "        forward_sdf = model(forward_points).squeeze(-1)\n",
    "        backward_sdf = model(backward_points).squeeze(-1)\n",
    "\n",
    "        # Central finite difference\n",
    "        gradients[:, i] = (forward_sdf - backward_sdf) / (2 * eps)\n",
    "\n",
    "    return gradients\n",
    "\n",
    "def compute_eikonal_loss(gradients):\n",
    "    \"\"\"\n",
    "    Computes the Eikonal loss using the computed gradients.\n",
    "\n",
    "    Args:\n",
    "    - gradients (torch.Tensor): Tensor of shape [N, 3] containing the gradients of SDF predictions.\n",
    "\n",
    "    Returns:\n",
    "    - loss (torch.Tensor): Computed Eikonal loss.\n",
    "    \"\"\"\n",
    "    # ||grad|| should be close to 1, compute the deviation from 1\n",
    "    loss = torch.mean(torch.abs(torch.norm(gradients, dim=-1) - 1))\n",
    "    return loss\n",
    "\n",
    "def compute_udf_loss(pred, gt):\n",
    "    \"\"\"\n",
    "    Custom loss for Unoriented Distance Function (UDF).\n",
    "    - Uses a log-based penalty to avoid predicting 0 everywhere.\n",
    "    - Keeps standard L1 loss for normal predictions.\n",
    "    \"\"\"\n",
    "    base_loss = torch.nn.functional.l1_loss(pred, gt, reduction='none')\n",
    "\n",
    "    # Extra penalty when ground truth is close to zero but the prediction is not\n",
    "    zero_penalty = torch.log1p(torch.abs(pred - gt)) * (gt < 0.05).float()  # Focus on near-zero regions\n",
    "\n",
    "    return torch.mean(base_loss + zero_penalty)\n",
    "\n"
   ]
  },
  {
   "cell_type": "markdown",
   "metadata": {},
   "source": [
    "## Training"
   ]
  },
  {
   "cell_type": "code",
   "execution_count": 6,
   "metadata": {},
   "outputs": [],
   "source": [
    "def get_debug_query_points(cube_size=2.0, resolution=10, device=\"cpu\"):\n",
    "    \"\"\"\n",
    "    Génère une grille cubique régulière de points en 3D.\n",
    "\n",
    "    Args:\n",
    "        cube_size (float): Taille du cube (longueur d'une arête).\n",
    "        resolution (int): Nombre de points par axe.\n",
    "        device (str): \"cpu\" ou \"cuda\" pour exécuter sur GPU.\n",
    "\n",
    "    Returns:\n",
    "        torch.Tensor: Un tenseur de shape (N, 3) contenant les coordonnées 3D des points.\n",
    "    \"\"\"\n",
    "    # Création d'un espace linéaire pour chaque axe (X, Y, Z)\n",
    "    lin_space = torch.linspace(-cube_size / 2, cube_size / 2, resolution, device=device)\n",
    "\n",
    "    # Création d'une grille 3D (meshgrid)\n",
    "    X, Y, Z = torch.meshgrid(lin_space, lin_space, lin_space, indexing=\"ij\")\n",
    "\n",
    "    # Aplatir la grille en une liste de points 3D\n",
    "    grid_points = torch.stack([X.flatten(), Y.flatten(), Z.flatten()], dim=-1)\n",
    "\n",
    "    return grid_points  # Shape: (resolution³, 3)\n",
    "\n",
    "def get_debug_query_points_random(cube_size=2.0, num_points=1000, device=\"cpu\"):\n",
    "    \"\"\"\n",
    "    Génère N points aléatoires à l'intérieur d'un cube 3D.\n",
    "\n",
    "    Args:\n",
    "        cube_size (float): Taille du cube (longueur d'une arête).\n",
    "        num_points (int): Nombre de points à générer.\n",
    "        device (str): \"cpu\" ou \"cuda\" pour exécuter sur GPU.\n",
    "\n",
    "    Returns:\n",
    "        torch.Tensor: Un tenseur de shape (N, 3) contenant les coordonnées 3D des points.\n",
    "    \"\"\"\n",
    "    # Générer N points uniformément distribués à l'intérieur du cube\n",
    "    points = (torch.rand((num_points, 3), device=device) - 0.5) * cube_size  # Centré sur (0,0,0)\n",
    "\n",
    "    return points  # Shape: (num_points, 3)"
   ]
  },
  {
   "cell_type": "code",
   "execution_count": 7,
   "metadata": {},
   "outputs": [],
   "source": [
    "# # Learning parameters\n",
    "# lr = 1e-4\n",
    "\n",
    "# # Model and optimizer\n",
    "# model = SimpleUDFModel().to(device)\n",
    "# model.apply(initialize_weights)\n",
    "# optimizer = torch.optim.Adam(model.parameters(), lr=lr)\n",
    "\n",
    "# # Seed RNG\n",
    "# seed = 9458\n",
    "# torch.manual_seed(seed)\n",
    "# np.random.seed(seed)\n",
    "\n",
    "# # Load previous checkpoint if available\n",
    "# checkpoint_dir = \"checkpoints\"\n",
    "# os.makedirs(checkpoint_dir, exist_ok=True)\n",
    "# start_epoch, best_loss = load_checkpoint(model, optimizer, os.path.join(checkpoint_dir, CHECKPOINT_NAME))"
   ]
  },
  {
   "cell_type": "code",
   "execution_count": 8,
   "metadata": {},
   "outputs": [],
   "source": [
    "# # Training parameters\n",
    "# save_every = 500  # Save every n iterations\n",
    "\n",
    "# num_iters = start_epoch + 500000 # Change this here for longer sessions\n",
    "\n",
    "# ray_range = 10 # Range of the rays\n",
    "# num_viewpoints = 10 # Number of viewpoints used per batch\n",
    "# num_rays = 1024 * 8  # Number of rays to be tested per batch\n",
    "# num_samples_per_ray = 25 # Numver of samples per ray\n",
    "\n",
    "# loss_buffer = collections.deque(maxlen=100)\n",
    "\n",
    "# # Training Loop\n",
    "# for i in range(start_epoch, num_iters):\n",
    "#     # Étape 1: Sélectionner aléatoirement 10 entrées du dataset\n",
    "#     # dataset_indices = torch.randint(0, len(dataset), (num_viewpoints,))\n",
    "#     # selected_entries = [list(dataset.values())[idx] for idx in dataset_indices.cpu().numpy()]\n",
    "\n",
    "#     # # Étape 2: Aplatir les entrées sélectionnées en un seul tenseur\n",
    "#     # target_depth = torch.cat([torch.tensor(data[FILTERED_DEPTH_MAP_ENTRY], dtype=torch.float32) for data in selected_entries]).to(device)\n",
    "#     # ray_directions = torch.cat([torch.tensor(data[FILTERED_RAY_DIRECTIONS_ENTRY], dtype=torch.float32) for data in selected_entries]).to(device)\n",
    "\n",
    "#     # # Étape 3: Sélectionner un échantillon aléatoire de `num_rays` dans ces tenseurs aplatis\n",
    "#     # rand_indices = torch.randint(0, target_depth.shape[0], (num_rays,))\n",
    "#     # selected_depth = target_depth[rand_indices]\n",
    "#     # selected_rays = ray_directions[rand_indices]\n",
    "\n",
    "#     # # Génération de N points aléatoires le long de chaque rayon\n",
    "#     # rand_samples = torch.rand((num_rays, num_samples_per_ray), device=device) * ray_range  # Échantillonnage uniforme\n",
    "#     # ray_points = selected_rays.unsqueeze(1) * rand_samples.unsqueeze(-1)  # Multiplication direction * distance\n",
    "#     # query_points = ray_points.view(-1, 3)  # Aplatir en une liste de points 3D\n",
    "#     # query_points = get_debug_query_points(cube_size=7.5, resolution=50, device=device)\n",
    "#     query_points = get_debug_query_points_random(cube_size=7.5, num_points=1, device=device)\n",
    "#     # query_points = torch.tensor([[0, 5.0, 0]], device=device)\n",
    "\n",
    "#     # Find correct distances\n",
    "#     estimated_distances = estimate_distances(query_points, dataset, device, False)\n",
    "#     predicted_distances = model(query_points).squeeze(-1 )\n",
    "\n",
    "#     # Combine Losses\n",
    "#     gradients = compute_gradients(model, query_points, sample_ratio=1)\n",
    "#     eikonal_loss = compute_eikonal_loss(gradients)\n",
    "\n",
    "#     distance_loss = torch.nn.functional.mse_loss(predicted_distances, estimated_distances)\n",
    "#     # distance_loss = compute_udf_loss(pred=predicted_distances, gt=estimated_distances)\n",
    "\n",
    "#     loss = distance_loss\n",
    "#     loss_buffer.append(loss.item())\n",
    "#     mean_loss = sum(loss_buffer) / len(loss_buffer)\n",
    "#     median_loss = statistics.median(loss_buffer)\n",
    "\n",
    "#     print(f\"Iteration {i}: Median Loss (Last 100): {median_loss:.4f}, Mean Loss (Last 100): {mean_loss}, Current Loss: {distance_loss.item():.4f}\")\n",
    "\n",
    "#     # Backpropagation\n",
    "#     optimizer.zero_grad()\n",
    "#     loss.backward()\n",
    "#     optimizer.step()\n",
    "\n",
    "#     # Save checkpoint periodically or if loss improves\n",
    "#     if i % save_every == 0 or loss.item() < best_loss:\n",
    "#         if loss.item() < best_loss:\n",
    "#             best_loss = loss.item()\n",
    "#         save_checkpoint(model, optimizer, i, loss.item(), os.path.join(checkpoint_dir, CHECKPOINT_NAME))\n",
    "\n",
    "# print(\"Training complete!\")"
   ]
  },
  {
   "cell_type": "markdown",
   "metadata": {},
   "source": [
    "## Inference"
   ]
  },
  {
   "cell_type": "code",
   "execution_count": 124,
   "metadata": {},
   "outputs": [
    {
     "name": "stdout",
     "output_type": "stream",
     "text": [
      "Loaded checkpoint from checkpoints\\checkpoint.pth: Epoch 1413500, Loss: 1.6009\n"
     ]
    },
    {
     "name": "stderr",
     "output_type": "stream",
     "text": [
      "c:\\Users\\Alex\\Git\\NeDF\\transforms\\checkpoint.py:17: FutureWarning: You are using `torch.load` with `weights_only=False` (the current default value), which uses the default pickle module implicitly. It is possible to construct malicious pickle data which will execute arbitrary code during unpickling (See https://github.com/pytorch/pytorch/blob/main/SECURITY.md#untrusted-models for more details). In a future release, the default value for `weights_only` will be flipped to `True`. This limits the functions that could be executed during unpickling. Arbitrary objects will no longer be allowed to be loaded via this mode unless they are explicitly allowlisted by the user via `torch.serialization.add_safe_globals`. We recommend you start setting `weights_only=True` for any use case where you don't have full control of the loaded file. Please open an issue on GitHub for any issues related to this experimental feature.\n",
      "  checkpoint = torch.load(checkpoint_path)\n"
     ]
    }
   ],
   "source": [
    "lr = 1e-5\n",
    "\n",
    "# Model and optimizer\n",
    "model = SimpleUDFModel().to(device)\n",
    "optimizer = torch.optim.Adam(model.parameters(), lr=lr)\n",
    "\n",
    "# Load checkpoint\n",
    "checkpoint_dir = \"checkpoints\"\n",
    "os.makedirs(checkpoint_dir, exist_ok=True)\n",
    "start_epoch, best_loss = load_checkpoint(model, optimizer, os.path.join(checkpoint_dir, CHECKPOINT_NAME))"
   ]
  },
  {
   "cell_type": "code",
   "execution_count": null,
   "metadata": {},
   "outputs": [
    {
     "data": {
      "image/png": "[encoded data removed]",
      "text/plain": [
       "<Figure size 600x600 with 2 Axes>"
      ]
     },
     "metadata": {},
     "output_type": "display_data"
    }
   ],
   "source": [
    "import matplotlib.pyplot as plt\n",
    "\n",
    "position = torch.tensor([0.0, 0.0, -7.0])  # Camera position\n",
    "projection_matrix = dataset[0][CAMERA_PROJECTION_ENTRY]\n",
    "\n",
    "rays = generate_rays_from_projection(position, -179, 0, 0, projection_matrix, device=device)\n",
    "depth_map = march_rays(model, rays, position, num_samples=50, threshold=0.01, max_distance=10.0, device=device)\n",
    "\n",
    "depth_map_reshaped = depth_map.reshape(100, 100).cpu().detach().numpy()\n",
    "\n",
    "# Plot depth map\n",
    "plt.figure(figsize=(6, 6))\n",
    "plt.imshow(depth_map_reshaped, cmap=\"grey\", interpolation=\"nearest\")\n",
    "plt.colorbar(label=\"Depth (Distance Traveled)\")\n",
    "plt.title(\"Ray Marching Depth Map\")\n",
    "plt.axis(\"off\")\n",
    "plt.show()"
   ]
  }
 ],
 "metadata": {
  "kernelspec": {
   "display_name": "Python 3",
   "language": "python",
   "name": "python3"
  },
  "language_info": {
   "codemirror_mode": {
    "name": "ipython",
    "version": 3
   },
   "file_extension": ".py",
   "mimetype": "text/x-python",
   "name": "python",
   "nbconvert_exporter": "python",
   "pygments_lexer": "ipython3",
   "version": "3.12.0"
  }
 },
 "nbformat": 4,
 "nbformat_minor": 2
}
